{
 "cells": [
  {
   "cell_type": "markdown",
   "metadata": {},
   "source": [
    "# A/B тест задача 1\n",
    "\n",
    "На сайте запущен А/В тест с целью увеличить доход. В приложенном excel файле вы найдете сырые данные по результатам эксперимента – user_id, тип выборки variant_name и доход принесенный пользователем revenue.\n",
    "Проанализируйте результаты эксперимента и напишите свои рекомендации менеджеру.\n",
    "(приложите скрипт с помощью которого анализировали данные, желательно файл .ipynb на python)\n",
    "\n",
    "Выполняет: Никита Лисоветин (telegram: https://t.me/nikitalisovetin) как базовое тестовое задание в команду продуктовой аналитики в https://ok.ru"
   ]
  },
  {
   "cell_type": "markdown",
   "metadata": {},
   "source": [
    "# Подключаем библиотеки"
   ]
  },
  {
   "cell_type": "code",
   "execution_count": 1,
   "metadata": {},
   "outputs": [],
   "source": [
    "import matplotlib.pyplot as plt\n",
    "import seaborn as sns \n",
    "import numpy as np\n",
    "import pandas as pd\n",
    "from scipy import stats"
   ]
  },
  {
   "cell_type": "markdown",
   "metadata": {},
   "source": [
    "# Загружаем данные a/b теста"
   ]
  },
  {
   "cell_type": "code",
   "execution_count": 2,
   "metadata": {},
   "outputs": [
    {
     "data": {
      "text/html": [
       "<div>\n",
       "<style scoped>\n",
       "    .dataframe tbody tr th:only-of-type {\n",
       "        vertical-align: middle;\n",
       "    }\n",
       "\n",
       "    .dataframe tbody tr th {\n",
       "        vertical-align: top;\n",
       "    }\n",
       "\n",
       "    .dataframe thead th {\n",
       "        text-align: right;\n",
       "    }\n",
       "</style>\n",
       "<table border=\"1\" class=\"dataframe\">\n",
       "  <thead>\n",
       "    <tr style=\"text-align: right;\">\n",
       "      <th></th>\n",
       "      <th>user_id</th>\n",
       "      <th>variant_name</th>\n",
       "      <th>revenue</th>\n",
       "    </tr>\n",
       "  </thead>\n",
       "  <tbody>\n",
       "    <tr>\n",
       "      <th>0</th>\n",
       "      <td>737</td>\n",
       "      <td>variant</td>\n",
       "      <td>0.0</td>\n",
       "    </tr>\n",
       "    <tr>\n",
       "      <th>1</th>\n",
       "      <td>2423</td>\n",
       "      <td>control</td>\n",
       "      <td>0.0</td>\n",
       "    </tr>\n",
       "    <tr>\n",
       "      <th>2</th>\n",
       "      <td>9411</td>\n",
       "      <td>control</td>\n",
       "      <td>0.0</td>\n",
       "    </tr>\n",
       "    <tr>\n",
       "      <th>3</th>\n",
       "      <td>7311</td>\n",
       "      <td>control</td>\n",
       "      <td>0.0</td>\n",
       "    </tr>\n",
       "    <tr>\n",
       "      <th>4</th>\n",
       "      <td>6174</td>\n",
       "      <td>variant</td>\n",
       "      <td>0.0</td>\n",
       "    </tr>\n",
       "  </tbody>\n",
       "</table>\n",
       "</div>"
      ],
      "text/plain": [
       "   user_id variant_name  revenue\n",
       "0      737      variant      0.0\n",
       "1     2423      control      0.0\n",
       "2     9411      control      0.0\n",
       "3     7311      control      0.0\n",
       "4     6174      variant      0.0"
      ]
     },
     "execution_count": 2,
     "metadata": {},
     "output_type": "execute_result"
    }
   ],
   "source": [
    "df = pd.read_excel('AB_Test_Results.xlsx')\n",
    "df.columns= df.columns.str.lower()\n",
    "df.head()"
   ]
  },
  {
   "cell_type": "markdown",
   "metadata": {},
   "source": [
    "## Посмотрим на данные"
   ]
  },
  {
   "cell_type": "code",
   "execution_count": 3,
   "metadata": {},
   "outputs": [
    {
     "name": "stdout",
     "output_type": "stream",
     "text": [
      "<class 'pandas.core.frame.DataFrame'>\n",
      "RangeIndex: 10000 entries, 0 to 9999\n",
      "Data columns (total 3 columns):\n",
      " #   Column        Non-Null Count  Dtype  \n",
      "---  ------        --------------  -----  \n",
      " 0   user_id       10000 non-null  int64  \n",
      " 1   variant_name  10000 non-null  object \n",
      " 2   revenue       10000 non-null  float64\n",
      "dtypes: float64(1), int64(1), object(1)\n",
      "memory usage: 234.5+ KB\n"
     ]
    }
   ],
   "source": [
    "df.info()"
   ]
  },
  {
   "cell_type": "code",
   "execution_count": 4,
   "metadata": {},
   "outputs": [
    {
     "data": {
      "text/plain": [
       "6324"
      ]
     },
     "execution_count": 4,
     "metadata": {},
     "output_type": "execute_result"
    }
   ],
   "source": [
    "len(np.unique(df.user_id))"
   ]
  },
  {
   "cell_type": "code",
   "execution_count": 5,
   "metadata": {},
   "outputs": [
    {
     "data": {
      "text/html": [
       "<div>\n",
       "<style scoped>\n",
       "    .dataframe tbody tr th:only-of-type {\n",
       "        vertical-align: middle;\n",
       "    }\n",
       "\n",
       "    .dataframe tbody tr th {\n",
       "        vertical-align: top;\n",
       "    }\n",
       "\n",
       "    .dataframe thead th {\n",
       "        text-align: right;\n",
       "    }\n",
       "</style>\n",
       "<table border=\"1\" class=\"dataframe\">\n",
       "  <thead>\n",
       "    <tr style=\"text-align: right;\">\n",
       "      <th></th>\n",
       "      <th></th>\n",
       "      <th>revenue</th>\n",
       "    </tr>\n",
       "    <tr>\n",
       "      <th>user_id</th>\n",
       "      <th>variant_name</th>\n",
       "      <th></th>\n",
       "    </tr>\n",
       "  </thead>\n",
       "  <tbody>\n",
       "    <tr>\n",
       "      <th>2</th>\n",
       "      <th>control</th>\n",
       "      <td>0.00</td>\n",
       "    </tr>\n",
       "    <tr>\n",
       "      <th rowspan=\"2\" valign=\"top\">3</th>\n",
       "      <th>control</th>\n",
       "      <td>0.00</td>\n",
       "    </tr>\n",
       "    <tr>\n",
       "      <th>variant</th>\n",
       "      <td>0.00</td>\n",
       "    </tr>\n",
       "    <tr>\n",
       "      <th>4</th>\n",
       "      <th>variant</th>\n",
       "      <td>0.00</td>\n",
       "    </tr>\n",
       "    <tr>\n",
       "      <th>5</th>\n",
       "      <th>variant</th>\n",
       "      <td>0.00</td>\n",
       "    </tr>\n",
       "    <tr>\n",
       "      <th>...</th>\n",
       "      <th>...</th>\n",
       "      <td>...</td>\n",
       "    </tr>\n",
       "    <tr>\n",
       "      <th rowspan=\"2\" valign=\"top\">9996</th>\n",
       "      <th>control</th>\n",
       "      <td>0.00</td>\n",
       "    </tr>\n",
       "    <tr>\n",
       "      <th>variant</th>\n",
       "      <td>6.46</td>\n",
       "    </tr>\n",
       "    <tr>\n",
       "      <th>9998</th>\n",
       "      <th>control</th>\n",
       "      <td>0.00</td>\n",
       "    </tr>\n",
       "    <tr>\n",
       "      <th rowspan=\"2\" valign=\"top\">10000</th>\n",
       "      <th>control</th>\n",
       "      <td>0.00</td>\n",
       "    </tr>\n",
       "    <tr>\n",
       "      <th>variant</th>\n",
       "      <td>0.00</td>\n",
       "    </tr>\n",
       "  </tbody>\n",
       "</table>\n",
       "<p>7865 rows × 1 columns</p>\n",
       "</div>"
      ],
      "text/plain": [
       "                      revenue\n",
       "user_id variant_name         \n",
       "2       control          0.00\n",
       "3       control          0.00\n",
       "        variant          0.00\n",
       "4       variant          0.00\n",
       "5       variant          0.00\n",
       "...                       ...\n",
       "9996    control          0.00\n",
       "        variant          6.46\n",
       "9998    control          0.00\n",
       "10000   control          0.00\n",
       "        variant          0.00\n",
       "\n",
       "[7865 rows x 1 columns]"
      ]
     },
     "execution_count": 5,
     "metadata": {},
     "output_type": "execute_result"
    }
   ],
   "source": [
    "df.groupby(['user_id', 'variant_name']).sum()"
   ]
  },
  {
   "cell_type": "code",
   "execution_count": 6,
   "metadata": {},
   "outputs": [],
   "source": [
    "df_variant = df[df.variant_name == 'variant']\n",
    "df_control = df[df.variant_name == 'control']"
   ]
  },
  {
   "cell_type": "code",
   "execution_count": 7,
   "metadata": {},
   "outputs": [
    {
     "data": {
      "text/plain": [
       "(5016, 4984)"
      ]
     },
     "execution_count": 7,
     "metadata": {},
     "output_type": "execute_result"
    }
   ],
   "source": [
    "count_variant = len(df_variant)\n",
    "count_control = len(df_control)\n",
    "\n",
    "count_variant, count_control"
   ]
  },
  {
   "cell_type": "code",
   "execution_count": 8,
   "metadata": {},
   "outputs": [
    {
     "data": {
      "text/plain": [
       "(4944, 4904)"
      ]
     },
     "execution_count": 8,
     "metadata": {},
     "output_type": "execute_result"
    }
   ],
   "source": [
    "zeroes_variant = len(df_variant[df_variant.revenue == 0.00])\n",
    "zeroes_control = len(df_control[df_control.revenue == 0.00])\n",
    "\n",
    "zeroes_variant, zeroes_control"
   ]
  },
  {
   "cell_type": "markdown",
   "metadata": {},
   "source": [
    "6324 != 7865 != 10000, что означает, что есть пользователи, встречающиеся в таблице несколько раз и по несколько раз в разных группах (control и variant). Нулей очень много. Встает вопрос: \"Что делать в этом случае?\". Можно ли выкинуть полные дубликаты? Нужно ли для каждого пользователя иметь в виду суммарный доход в control и суммарный доход в variant? Имеет ли смысл смотреть только на тех пользователей, для которых есть запись с variant_name=control и =variant? Можно ли забить на \"нули\"? Можно ли забить на \"user_id\"?\n",
    "\n",
    "Давайте исходить из того, что данные были получены в результате решения следующей задачи:\n",
    "\n",
    "# Задача\n",
    "В течение недели в онлайн-магазин заходили пользователи и совершали покупки. В половине сессий показывался один дизайн сайта, в другой половине - другой. Соответственно, одной записе в таблице соответствует одна сессия. Хочется понять какой дизайн оставить\n",
    "\n",
    "Извлечем из данных максимум/посчитаем разные продуктовые метрики"
   ]
  },
  {
   "cell_type": "code",
   "execution_count": 9,
   "metadata": {},
   "outputs": [
    {
     "data": {
      "text/plain": [
       "(351.47, 643.0)"
      ]
     },
     "execution_count": 9,
     "metadata": {},
     "output_type": "execute_result"
    }
   ],
   "source": [
    "total_revenue_variant = np.sum(df_variant.revenue)\n",
    "total_revenue_control = np.sum(df_control.revenue)\n",
    "\n",
    "total_revenue_variant, total_revenue_control"
   ]
  },
  {
   "cell_type": "markdown",
   "metadata": {},
   "source": [
    "Если оставить нули, то при дальнейшем анализе мы сможем сделать только один вывод - да, почти всегда доход 0. Давайте их уберем. При этом \"0\", которые могли бы означать, что при одном дизайне пользователи вовсе перестали платить, дадут свой вклад в продуктовые метрики, например, при сравнении \"средних доходов по пользователям в variant и control\".\n",
    "\n",
    "Для сравнения доходов так же нужно выкинуть очевидные выбросы"
   ]
  },
  {
   "cell_type": "code",
   "execution_count": 10,
   "metadata": {},
   "outputs": [],
   "source": [
    "df_positive_variant = df_variant[df_variant.revenue != 0.00]\n",
    "df_positive_control = df_control[df_control.revenue != 0.00]"
   ]
  },
  {
   "cell_type": "code",
   "execution_count": 11,
   "metadata": {},
   "outputs": [
    {
     "data": {
      "text/plain": [
       "<AxesSubplot:xlabel='revenue'>"
      ]
     },
     "execution_count": 11,
     "metadata": {},
     "output_type": "execute_result"
    },
    {
     "data": {
      "image/png": "[encoded data removed]",
      "text/plain": [
       "<Figure size 432x288 with 1 Axes>"
      ]
     },
     "metadata": {
      "needs_background": "light"
     },
     "output_type": "display_data"
    }
   ],
   "source": [
    "sns.boxplot(df_positive_variant.revenue)"
   ]
  },
  {
   "cell_type": "code",
   "execution_count": 12,
   "metadata": {},
   "outputs": [
    {
     "data": {
      "text/plain": [
       "<AxesSubplot:xlabel='revenue'>"
      ]
     },
     "execution_count": 12,
     "metadata": {},
     "output_type": "execute_result"
    },
    {
     "data": {
      "image/png": "[encoded data removed]",
      "text/plain": [
       "<Figure size 432x288 with 1 Axes>"
      ]
     },
     "metadata": {
      "needs_background": "light"
     },
     "output_type": "display_data"
    }
   ],
   "source": [
    "sns.distplot(df_positive_variant.revenue)\n",
    "sns.distplot(df_positive_control.revenue)"
   ]
  },
  {
   "cell_type": "markdown",
   "metadata": {},
   "source": [
    "# Посмотрим на хвосты"
   ]
  },
  {
   "cell_type": "code",
   "execution_count": 13,
   "metadata": {
    "scrolled": false
   },
   "outputs": [
    {
     "data": {
      "text/html": [
       "<div>\n",
       "<style scoped>\n",
       "    .dataframe tbody tr th:only-of-type {\n",
       "        vertical-align: middle;\n",
       "    }\n",
       "\n",
       "    .dataframe tbody tr th {\n",
       "        vertical-align: top;\n",
       "    }\n",
       "\n",
       "    .dataframe thead th {\n",
       "        text-align: right;\n",
       "    }\n",
       "</style>\n",
       "<table border=\"1\" class=\"dataframe\">\n",
       "  <thead>\n",
       "    <tr style=\"text-align: right;\">\n",
       "      <th></th>\n",
       "      <th>user_id</th>\n",
       "      <th>variant_name</th>\n",
       "      <th>revenue</th>\n",
       "    </tr>\n",
       "  </thead>\n",
       "  <tbody>\n",
       "    <tr>\n",
       "      <th>0</th>\n",
       "      <td>3342</td>\n",
       "      <td>control</td>\n",
       "      <td>196.01</td>\n",
       "    </tr>\n",
       "    <tr>\n",
       "      <th>1</th>\n",
       "      <td>2881</td>\n",
       "      <td>variant</td>\n",
       "      <td>58.63</td>\n",
       "    </tr>\n",
       "    <tr>\n",
       "      <th>2</th>\n",
       "      <td>7206</td>\n",
       "      <td>variant</td>\n",
       "      <td>57.46</td>\n",
       "    </tr>\n",
       "    <tr>\n",
       "      <th>3</th>\n",
       "      <td>6792</td>\n",
       "      <td>control</td>\n",
       "      <td>41.53</td>\n",
       "    </tr>\n",
       "    <tr>\n",
       "      <th>4</th>\n",
       "      <td>2166</td>\n",
       "      <td>control</td>\n",
       "      <td>29.32</td>\n",
       "    </tr>\n",
       "    <tr>\n",
       "      <th>5</th>\n",
       "      <td>831</td>\n",
       "      <td>control</td>\n",
       "      <td>25.98</td>\n",
       "    </tr>\n",
       "    <tr>\n",
       "      <th>6</th>\n",
       "      <td>7356</td>\n",
       "      <td>variant</td>\n",
       "      <td>23.04</td>\n",
       "    </tr>\n",
       "    <tr>\n",
       "      <th>7</th>\n",
       "      <td>1053</td>\n",
       "      <td>control</td>\n",
       "      <td>20.07</td>\n",
       "    </tr>\n",
       "    <tr>\n",
       "      <th>8</th>\n",
       "      <td>3684</td>\n",
       "      <td>variant</td>\n",
       "      <td>19.47</td>\n",
       "    </tr>\n",
       "    <tr>\n",
       "      <th>9</th>\n",
       "      <td>282</td>\n",
       "      <td>control</td>\n",
       "      <td>18.56</td>\n",
       "    </tr>\n",
       "    <tr>\n",
       "      <th>10</th>\n",
       "      <td>7358</td>\n",
       "      <td>control</td>\n",
       "      <td>17.87</td>\n",
       "    </tr>\n",
       "    <tr>\n",
       "      <th>11</th>\n",
       "      <td>701</td>\n",
       "      <td>control</td>\n",
       "      <td>17.08</td>\n",
       "    </tr>\n",
       "    <tr>\n",
       "      <th>12</th>\n",
       "      <td>4445</td>\n",
       "      <td>control</td>\n",
       "      <td>17.05</td>\n",
       "    </tr>\n",
       "    <tr>\n",
       "      <th>13</th>\n",
       "      <td>2059</td>\n",
       "      <td>control</td>\n",
       "      <td>14.24</td>\n",
       "    </tr>\n",
       "    <tr>\n",
       "      <th>14</th>\n",
       "      <td>5205</td>\n",
       "      <td>control</td>\n",
       "      <td>14.17</td>\n",
       "    </tr>\n",
       "    <tr>\n",
       "      <th>15</th>\n",
       "      <td>1973</td>\n",
       "      <td>control</td>\n",
       "      <td>14.07</td>\n",
       "    </tr>\n",
       "    <tr>\n",
       "      <th>16</th>\n",
       "      <td>6294</td>\n",
       "      <td>variant</td>\n",
       "      <td>12.99</td>\n",
       "    </tr>\n",
       "    <tr>\n",
       "      <th>17</th>\n",
       "      <td>4966</td>\n",
       "      <td>variant</td>\n",
       "      <td>12.99</td>\n",
       "    </tr>\n",
       "    <tr>\n",
       "      <th>18</th>\n",
       "      <td>1773</td>\n",
       "      <td>control</td>\n",
       "      <td>11.98</td>\n",
       "    </tr>\n",
       "    <tr>\n",
       "      <th>19</th>\n",
       "      <td>3326</td>\n",
       "      <td>variant</td>\n",
       "      <td>10.82</td>\n",
       "    </tr>\n",
       "  </tbody>\n",
       "</table>\n",
       "</div>"
      ],
      "text/plain": [
       "    user_id variant_name  revenue\n",
       "0      3342      control   196.01\n",
       "1      2881      variant    58.63\n",
       "2      7206      variant    57.46\n",
       "3      6792      control    41.53\n",
       "4      2166      control    29.32\n",
       "5       831      control    25.98\n",
       "6      7356      variant    23.04\n",
       "7      1053      control    20.07\n",
       "8      3684      variant    19.47\n",
       "9       282      control    18.56\n",
       "10     7358      control    17.87\n",
       "11      701      control    17.08\n",
       "12     4445      control    17.05\n",
       "13     2059      control    14.24\n",
       "14     5205      control    14.17\n",
       "15     1973      control    14.07\n",
       "16     6294      variant    12.99\n",
       "17     4966      variant    12.99\n",
       "18     1773      control    11.98\n",
       "19     3326      variant    10.82"
      ]
     },
     "execution_count": 13,
     "metadata": {},
     "output_type": "execute_result"
    }
   ],
   "source": [
    "df.sort_values(by=['revenue']).sort_values(by=['revenue'], ascending=False).reset_index(drop=True).head(20)"
   ]
  },
  {
   "cell_type": "code",
   "execution_count": 14,
   "metadata": {},
   "outputs": [
    {
     "data": {
      "text/html": [
       "<div>\n",
       "<style scoped>\n",
       "    .dataframe tbody tr th:only-of-type {\n",
       "        vertical-align: middle;\n",
       "    }\n",
       "\n",
       "    .dataframe tbody tr th {\n",
       "        vertical-align: top;\n",
       "    }\n",
       "\n",
       "    .dataframe thead th {\n",
       "        text-align: right;\n",
       "    }\n",
       "</style>\n",
       "<table border=\"1\" class=\"dataframe\">\n",
       "  <thead>\n",
       "    <tr style=\"text-align: right;\">\n",
       "      <th></th>\n",
       "      <th>user_id</th>\n",
       "      <th>revenue</th>\n",
       "    </tr>\n",
       "  </thead>\n",
       "  <tbody>\n",
       "    <tr>\n",
       "      <th>0</th>\n",
       "      <td>3342</td>\n",
       "      <td>196.01</td>\n",
       "    </tr>\n",
       "    <tr>\n",
       "      <th>1</th>\n",
       "      <td>2881</td>\n",
       "      <td>58.63</td>\n",
       "    </tr>\n",
       "    <tr>\n",
       "      <th>2</th>\n",
       "      <td>7206</td>\n",
       "      <td>57.46</td>\n",
       "    </tr>\n",
       "    <tr>\n",
       "      <th>3</th>\n",
       "      <td>6792</td>\n",
       "      <td>41.53</td>\n",
       "    </tr>\n",
       "    <tr>\n",
       "      <th>4</th>\n",
       "      <td>2166</td>\n",
       "      <td>29.32</td>\n",
       "    </tr>\n",
       "    <tr>\n",
       "      <th>5</th>\n",
       "      <td>831</td>\n",
       "      <td>25.98</td>\n",
       "    </tr>\n",
       "    <tr>\n",
       "      <th>6</th>\n",
       "      <td>7356</td>\n",
       "      <td>23.04</td>\n",
       "    </tr>\n",
       "    <tr>\n",
       "      <th>7</th>\n",
       "      <td>1053</td>\n",
       "      <td>20.07</td>\n",
       "    </tr>\n",
       "    <tr>\n",
       "      <th>8</th>\n",
       "      <td>3684</td>\n",
       "      <td>19.47</td>\n",
       "    </tr>\n",
       "    <tr>\n",
       "      <th>9</th>\n",
       "      <td>282</td>\n",
       "      <td>18.56</td>\n",
       "    </tr>\n",
       "    <tr>\n",
       "      <th>10</th>\n",
       "      <td>7358</td>\n",
       "      <td>17.87</td>\n",
       "    </tr>\n",
       "    <tr>\n",
       "      <th>11</th>\n",
       "      <td>701</td>\n",
       "      <td>17.08</td>\n",
       "    </tr>\n",
       "    <tr>\n",
       "      <th>12</th>\n",
       "      <td>4445</td>\n",
       "      <td>17.05</td>\n",
       "    </tr>\n",
       "    <tr>\n",
       "      <th>13</th>\n",
       "      <td>2059</td>\n",
       "      <td>14.24</td>\n",
       "    </tr>\n",
       "    <tr>\n",
       "      <th>14</th>\n",
       "      <td>5205</td>\n",
       "      <td>14.17</td>\n",
       "    </tr>\n",
       "    <tr>\n",
       "      <th>15</th>\n",
       "      <td>1973</td>\n",
       "      <td>14.07</td>\n",
       "    </tr>\n",
       "    <tr>\n",
       "      <th>16</th>\n",
       "      <td>4966</td>\n",
       "      <td>12.99</td>\n",
       "    </tr>\n",
       "    <tr>\n",
       "      <th>17</th>\n",
       "      <td>6294</td>\n",
       "      <td>12.99</td>\n",
       "    </tr>\n",
       "    <tr>\n",
       "      <th>18</th>\n",
       "      <td>1773</td>\n",
       "      <td>11.98</td>\n",
       "    </tr>\n",
       "    <tr>\n",
       "      <th>19</th>\n",
       "      <td>3326</td>\n",
       "      <td>10.82</td>\n",
       "    </tr>\n",
       "  </tbody>\n",
       "</table>\n",
       "</div>"
      ],
      "text/plain": [
       "    user_id  revenue\n",
       "0      3342   196.01\n",
       "1      2881    58.63\n",
       "2      7206    57.46\n",
       "3      6792    41.53\n",
       "4      2166    29.32\n",
       "5       831    25.98\n",
       "6      7356    23.04\n",
       "7      1053    20.07\n",
       "8      3684    19.47\n",
       "9       282    18.56\n",
       "10     7358    17.87\n",
       "11      701    17.08\n",
       "12     4445    17.05\n",
       "13     2059    14.24\n",
       "14     5205    14.17\n",
       "15     1973    14.07\n",
       "16     4966    12.99\n",
       "17     6294    12.99\n",
       "18     1773    11.98\n",
       "19     3326    10.82"
      ]
     },
     "execution_count": 14,
     "metadata": {},
     "output_type": "execute_result"
    }
   ],
   "source": [
    "df.groupby(['user_id'])[['revenue']].sum().sort_values(by=['revenue'], ascending=False).reset_index().head(20)"
   ]
  },
  {
   "cell_type": "markdown",
   "metadata": {},
   "source": [
    "Вывод: наибольший доход был получен в результате сессий разных пользователей. Причем, эти сессии были единственными, когда эти пользователи что-то покупали.\n",
    "\n",
    "Это соответствует сформулированной задаче, а именно тому, что данные были собраны за 1 неделю.\n",
    "\n",
    "Выбросы объясняются тем, что дорогие товары/заказы существуют и их иногда покупают/осуществляют разные люди."
   ]
  },
  {
   "cell_type": "markdown",
   "metadata": {},
   "source": [
    "# Чистка данных для визуального изучения"
   ]
  },
  {
   "cell_type": "code",
   "execution_count": 15,
   "metadata": {},
   "outputs": [
    {
     "data": {
      "text/plain": [
       "(0.6, 8.556999999999997)"
      ]
     },
     "execution_count": 15,
     "metadata": {},
     "output_type": "execute_result"
    }
   ],
   "source": [
    "min_border = np.percentile(df_positive_variant.revenue, 10)\n",
    "max_border = np.percentile(df_positive_variant.revenue, 90)\n",
    "min_border, max_border"
   ]
  },
  {
   "cell_type": "code",
   "execution_count": 16,
   "metadata": {},
   "outputs": [],
   "source": [
    "df_visual_positive_variant = df_positive_variant[(df_positive_variant['revenue'] > min_border) & (df_positive_variant['revenue'] < max_border)]"
   ]
  },
  {
   "cell_type": "code",
   "execution_count": 17,
   "metadata": {},
   "outputs": [
    {
     "data": {
      "text/plain": [
       "<AxesSubplot:xlabel='revenue'>"
      ]
     },
     "execution_count": 17,
     "metadata": {},
     "output_type": "execute_result"
    },
    {
     "data": {
      "image/png": "[encoded data removed]",
      "text/plain": [
       "<Figure size 432x288 with 1 Axes>"
      ]
     },
     "metadata": {
      "needs_background": "light"
     },
     "output_type": "display_data"
    }
   ],
   "source": [
    "sns.distplot(df_visual_positive_variant.revenue)"
   ]
  },
  {
   "cell_type": "code",
   "execution_count": 18,
   "metadata": {},
   "outputs": [
    {
     "data": {
      "text/plain": [
       "<AxesSubplot:xlabel='revenue'>"
      ]
     },
     "execution_count": 18,
     "metadata": {},
     "output_type": "execute_result"
    },
    {
     "data": {
      "image/png": "[encoded data removed]",
      "text/plain": [
       "<Figure size 432x288 with 1 Axes>"
      ]
     },
     "metadata": {
      "needs_background": "light"
     },
     "output_type": "display_data"
    }
   ],
   "source": [
    "sns.boxplot(x='revenue',\n",
    "           data=df_visual_positive_variant, orient='h')"
   ]
  },
  {
   "cell_type": "markdown",
   "metadata": {},
   "source": [
    "### Делаем то же самое для control"
   ]
  },
  {
   "cell_type": "code",
   "execution_count": 19,
   "metadata": {},
   "outputs": [
    {
     "data": {
      "text/plain": [
       "(0.8320000000000001, 17.053)"
      ]
     },
     "execution_count": 19,
     "metadata": {},
     "output_type": "execute_result"
    }
   ],
   "source": [
    "min_border = np.percentile(df_positive_control.revenue, 10)\n",
    "max_border = np.percentile(df_positive_control.revenue, 90)\n",
    "min_border, max_border"
   ]
  },
  {
   "cell_type": "code",
   "execution_count": 20,
   "metadata": {},
   "outputs": [],
   "source": [
    "df_visual_positive_control = df_positive_control[(df_positive_control['revenue'] > min_border) & (df_positive_control['revenue'] < max_border)]"
   ]
  },
  {
   "cell_type": "code",
   "execution_count": 21,
   "metadata": {},
   "outputs": [
    {
     "data": {
      "text/plain": [
       "<AxesSubplot:xlabel='revenue'>"
      ]
     },
     "execution_count": 21,
     "metadata": {},
     "output_type": "execute_result"
    },
    {
     "data": {
      "image/png": "[encoded data removed]",
      "text/plain": [
       "<Figure size 432x288 with 1 Axes>"
      ]
     },
     "metadata": {
      "needs_background": "light"
     },
     "output_type": "display_data"
    }
   ],
   "source": [
    "sns.boxplot(x='revenue',\n",
    "           data=df_visual_positive_control, orient='h')"
   ]
  },
  {
   "cell_type": "code",
   "execution_count": 22,
   "metadata": {},
   "outputs": [
    {
     "data": {
      "image/png": "[encoded data removed]",
      "text/plain": [
       "<Figure size 432x288 with 1 Axes>"
      ]
     },
     "metadata": {
      "needs_background": "light"
     },
     "output_type": "display_data"
    }
   ],
   "source": [
    "sns.distplot(df_visual_positive_variant.revenue, kde_kws={\"label\": \"variant\"})\n",
    "sns.distplot(df_visual_positive_control.revenue, kde_kws={\"label\": \"control\"})\n",
    "\n",
    "plt.savefig('distplots.png')"
   ]
  },
  {
   "cell_type": "markdown",
   "metadata": {},
   "source": [
    "## Violin plot"
   ]
  },
  {
   "cell_type": "code",
   "execution_count": 23,
   "metadata": {},
   "outputs": [
    {
     "data": {
      "text/html": [
       "<div>\n",
       "<style scoped>\n",
       "    .dataframe tbody tr th:only-of-type {\n",
       "        vertical-align: middle;\n",
       "    }\n",
       "\n",
       "    .dataframe tbody tr th {\n",
       "        vertical-align: top;\n",
       "    }\n",
       "\n",
       "    .dataframe thead th {\n",
       "        text-align: right;\n",
       "    }\n",
       "</style>\n",
       "<table border=\"1\" class=\"dataframe\">\n",
       "  <thead>\n",
       "    <tr style=\"text-align: right;\">\n",
       "      <th></th>\n",
       "      <th>user_id</th>\n",
       "      <th>variant_name</th>\n",
       "      <th>revenue</th>\n",
       "    </tr>\n",
       "  </thead>\n",
       "  <tbody>\n",
       "    <tr>\n",
       "      <th>13</th>\n",
       "      <td>2529</td>\n",
       "      <td>variant</td>\n",
       "      <td>2.15</td>\n",
       "    </tr>\n",
       "    <tr>\n",
       "      <th>139</th>\n",
       "      <td>3331</td>\n",
       "      <td>variant</td>\n",
       "      <td>4.27</td>\n",
       "    </tr>\n",
       "    <tr>\n",
       "      <th>149</th>\n",
       "      <td>8110</td>\n",
       "      <td>variant</td>\n",
       "      <td>1.75</td>\n",
       "    </tr>\n",
       "    <tr>\n",
       "      <th>540</th>\n",
       "      <td>5845</td>\n",
       "      <td>variant</td>\n",
       "      <td>1.26</td>\n",
       "    </tr>\n",
       "    <tr>\n",
       "      <th>1119</th>\n",
       "      <td>8175</td>\n",
       "      <td>variant</td>\n",
       "      <td>5.45</td>\n",
       "    </tr>\n",
       "  </tbody>\n",
       "</table>\n",
       "</div>"
      ],
      "text/plain": [
       "      user_id variant_name  revenue\n",
       "13       2529      variant     2.15\n",
       "139      3331      variant     4.27\n",
       "149      8110      variant     1.75\n",
       "540      5845      variant     1.26\n",
       "1119     8175      variant     5.45"
      ]
     },
     "execution_count": 23,
     "metadata": {},
     "output_type": "execute_result"
    }
   ],
   "source": [
    "df_violin = pd.concat([df_visual_positive_variant, df_visual_positive_control])\n",
    "df_violin.head()"
   ]
  },
  {
   "cell_type": "code",
   "execution_count": 24,
   "metadata": {},
   "outputs": [
    {
     "data": {
      "image/png": "[encoded data removed]",
      "text/plain": [
       "<Figure size 432x288 with 1 Axes>"
      ]
     },
     "metadata": {
      "needs_background": "light"
     },
     "output_type": "display_data"
    }
   ],
   "source": [
    "df_violin['all'] = ''\n",
    "sns.violinplot(x = 'all', y = 'revenue', data = df_violin, inner=\"quartile\", \n",
    "               hue = 'variant_name', split = 'True', palette = 'seismic', scale_hue = False, scale = 'area')\n",
    "\n",
    "plt.savefig('violinplot.png')"
   ]
  },
  {
   "cell_type": "markdown",
   "metadata": {},
   "source": [
    "## Box plot"
   ]
  },
  {
   "cell_type": "code",
   "execution_count": 25,
   "metadata": {},
   "outputs": [
    {
     "data": {
      "image/png": "[encoded data removed]",
      "text/plain": [
       "<Figure size 432x288 with 1 Axes>"
      ]
     },
     "metadata": {
      "needs_background": "light"
     },
     "output_type": "display_data"
    }
   ],
   "source": [
    "sns.boxplot(x='variant_name', y='revenue', data=df_violin)\n",
    "\n",
    "plt.savefig('boxplots.png')"
   ]
  },
  {
   "cell_type": "markdown",
   "metadata": {},
   "source": [
    "# Доход увеличился?"
   ]
  },
  {
   "cell_type": "code",
   "execution_count": 26,
   "metadata": {},
   "outputs": [
    {
     "data": {
      "text/plain": [
       "(351.47, 643.0)"
      ]
     },
     "execution_count": 26,
     "metadata": {},
     "output_type": "execute_result"
    }
   ],
   "source": [
    "total_positive_revenue_variant = np.sum(df_positive_variant.revenue)\n",
    "total_positive_revenue_control = np.sum(df_positive_control.revenue)\n",
    "\n",
    "total_positive_revenue_variant, total_positive_revenue_control"
   ]
  },
  {
   "cell_type": "code",
   "execution_count": 27,
   "metadata": {},
   "outputs": [
    {
     "data": {
      "text/plain": [
       "(72, 80)"
      ]
     },
     "execution_count": 27,
     "metadata": {},
     "output_type": "execute_result"
    }
   ],
   "source": [
    "count_positive_variant = len(df_positive_variant)\n",
    "count_positive_control = len(df_positive_control)\n",
    "\n",
    "count_positive_variant, count_positive_control"
   ]
  },
  {
   "cell_type": "code",
   "execution_count": 28,
   "metadata": {},
   "outputs": [
    {
     "data": {
      "text/plain": [
       "(4.881527777777778, 8.0375)"
      ]
     },
     "execution_count": 28,
     "metadata": {},
     "output_type": "execute_result"
    }
   ],
   "source": [
    "mean_order_variant = total_positive_revenue_variant / count_positive_variant\n",
    "mean_order_control = total_positive_revenue_control / count_positive_control\n",
    "\n",
    "mean_order_variant, mean_order_control"
   ]
  },
  {
   "cell_type": "code",
   "execution_count": 29,
   "metadata": {},
   "outputs": [
    {
     "data": {
      "text/html": [
       "<div>\n",
       "<style scoped>\n",
       "    .dataframe tbody tr th:only-of-type {\n",
       "        vertical-align: middle;\n",
       "    }\n",
       "\n",
       "    .dataframe tbody tr th {\n",
       "        vertical-align: top;\n",
       "    }\n",
       "\n",
       "    .dataframe thead th {\n",
       "        text-align: right;\n",
       "    }\n",
       "</style>\n",
       "<table border=\"1\" class=\"dataframe\">\n",
       "  <thead>\n",
       "    <tr style=\"text-align: right;\">\n",
       "      <th></th>\n",
       "      <th>user_id</th>\n",
       "      <th>variant_name</th>\n",
       "      <th>revenue</th>\n",
       "    </tr>\n",
       "  </thead>\n",
       "  <tbody>\n",
       "    <tr>\n",
       "      <th>13</th>\n",
       "      <td>2529</td>\n",
       "      <td>variant</td>\n",
       "      <td>2.15</td>\n",
       "    </tr>\n",
       "    <tr>\n",
       "      <th>139</th>\n",
       "      <td>3331</td>\n",
       "      <td>variant</td>\n",
       "      <td>4.27</td>\n",
       "    </tr>\n",
       "    <tr>\n",
       "      <th>149</th>\n",
       "      <td>8110</td>\n",
       "      <td>variant</td>\n",
       "      <td>1.75</td>\n",
       "    </tr>\n",
       "    <tr>\n",
       "      <th>540</th>\n",
       "      <td>5845</td>\n",
       "      <td>variant</td>\n",
       "      <td>1.26</td>\n",
       "    </tr>\n",
       "    <tr>\n",
       "      <th>1119</th>\n",
       "      <td>8175</td>\n",
       "      <td>variant</td>\n",
       "      <td>5.45</td>\n",
       "    </tr>\n",
       "  </tbody>\n",
       "</table>\n",
       "</div>"
      ],
      "text/plain": [
       "      user_id variant_name  revenue\n",
       "13       2529      variant     2.15\n",
       "139      3331      variant     4.27\n",
       "149      8110      variant     1.75\n",
       "540      5845      variant     1.26\n",
       "1119     8175      variant     5.45"
      ]
     },
     "execution_count": 29,
     "metadata": {},
     "output_type": "execute_result"
    }
   ],
   "source": [
    "df_positive_variant.head()"
   ]
  },
  {
   "cell_type": "code",
   "execution_count": 30,
   "metadata": {},
   "outputs": [
    {
     "data": {
      "text/plain": [
       "(4.926267605633803, 8.0375)"
      ]
     },
     "execution_count": 30,
     "metadata": {},
     "output_type": "execute_result"
    }
   ],
   "source": [
    "gmv_buyer_variant = np.mean(df_positive_variant.groupby(['user_id'])[['revenue']].mean()['revenue'])\n",
    "gmv_buyer_control = np.mean(df_positive_control.groupby(['user_id'])[['revenue']].mean()['revenue'])\n",
    "\n",
    "gmv_buyer_variant, gmv_buyer_control"
   ]
  },
  {
   "cell_type": "markdown",
   "metadata": {},
   "source": [
    "## Выдвигаем и проверяем статистическую гипотезу\n",
    "\n",
    "Первоочередная задача бизнеса -- увеличить прибыль. Проверяя новую фичу мы хотим узнать увеличился у нас доход или нет. Поэтому гипотезы формулируются следующим образом:\n",
    "\n",
    "* H0: доход не изменился, то есть E(revenue(variant)) = E(revenue(control))\n",
    "* H1: доход увеличился, то есть E(revenue(variant)) > E(revenue(control))\n",
    "* H1': доход уменьшился, то есть E(revenue(variant)) < E(revenue(control))\n",
    "\n",
    "Хотим понять можем ли мы принять H0 с уровнем значимости alpha = 0.05?\n",
    "\n",
    "Сделаем допущение, что выборки независимы. Выборки разного размера, поэтому воспользуемся критерием Манни-Уитни для проверки нулевой гипотезы."
   ]
  },
  {
   "cell_type": "code",
   "execution_count": 31,
   "metadata": {},
   "outputs": [],
   "source": [
    "variant = df_positive_variant.revenue.tolist()\n",
    "control = df_positive_control.revenue.tolist()"
   ]
  },
  {
   "cell_type": "code",
   "execution_count": 32,
   "metadata": {},
   "outputs": [
    {
     "data": {
      "text/plain": [
       "MannwhitneyuResult(statistic=2404.0, pvalue=0.9606931031150104)"
      ]
     },
     "execution_count": 32,
     "metadata": {},
     "output_type": "execute_result"
    }
   ],
   "source": [
    "stats.mannwhitneyu(variant, control, alternative='greater')"
   ]
  },
  {
   "cell_type": "code",
   "execution_count": 33,
   "metadata": {},
   "outputs": [
    {
     "data": {
      "text/plain": [
       "MannwhitneyuResult(statistic=2404.0, pvalue=0.039621499053015305)"
      ]
     },
     "execution_count": 33,
     "metadata": {},
     "output_type": "execute_result"
    }
   ],
   "source": [
    "stats.mannwhitneyu(variant, control, alternative='less')"
   ]
  },
  {
   "cell_type": "markdown",
   "metadata": {},
   "source": [
    "Значит, нет оснований принимать гипотезу H1': E(revenue(variant)) < E(revenue(control)). Математическое ожидание дохода указанного в записи в таблице уменьшилось. Те, кто совершает покупки, тратят меньше."
   ]
  },
  {
   "cell_type": "markdown",
   "metadata": {},
   "source": [
    "# Считаем конверсию"
   ]
  },
  {
   "cell_type": "code",
   "execution_count": 34,
   "metadata": {},
   "outputs": [
    {
     "data": {
      "text/plain": [
       "(0.014354066985645933, 0.016051364365971106)"
      ]
     },
     "execution_count": 34,
     "metadata": {},
     "output_type": "execute_result"
    }
   ],
   "source": [
    "mean_variant_CR = count_positive_variant / count_variant\n",
    "mean_control_CR = count_positive_control / count_control\n",
    "\n",
    "mean_variant_CR, mean_control_CR"
   ]
  },
  {
   "cell_type": "markdown",
   "metadata": {},
   "source": [
    "### Конверсия увеличилась в парной выборке? Выдвигаем и проверяем статистическую гипотезу\n",
    "\n",
    "Конверсия - одна из основных метрик. Чем выше, тем лучше. Проверяя новую фичу мы хотим узнать увеличилась у нас конверсия или нет. Поэтому гипотезы формулируются следующим образом:\n",
    "\n",
    "* H0: конверсия не изменилась, то есть E(cr(variant)) = E(cr(control))\n",
    "* H1: конверсия увеличилась, то есть E(cr(variant)) > E(cr(control))\n",
    "* H1': конверсия изменилась, то есть E(cr(variant)) != E(cr(control))\n",
    "\n",
    "Хотим понять можем ли мы принять H0 с уровнем значимости alpha = 0.05?\n",
    "\n",
    "Сделаем допущение, что выборки независимы. Выборки разного размера, поэтому воспользуемся критерием Манни-Уитни для проверки нулевой гипотезы."
   ]
  },
  {
   "cell_type": "code",
   "execution_count": 35,
   "metadata": {},
   "outputs": [],
   "source": [
    "df_variant_payed = df_variant.copy()\n",
    "df_variant_payed['payed'] = df_variant_payed.apply(lambda row: 0 if row.revenue == 0 else 1, axis = 1)\n",
    "\n",
    "df_control_payed = df_control.copy()\n",
    "df_control_payed['payed'] = df_control_payed.apply(lambda row: 0 if row.revenue == 0 else 1, axis = 1)"
   ]
  },
  {
   "cell_type": "code",
   "execution_count": 36,
   "metadata": {},
   "outputs": [],
   "source": [
    "variant_CR = df_variant_payed.payed.tolist()\n",
    "control_CR = df_control_payed.payed.tolist()"
   ]
  },
  {
   "cell_type": "code",
   "execution_count": 37,
   "metadata": {},
   "outputs": [
    {
     "data": {
      "text/plain": [
       "MannwhitneyuResult(statistic=12478656.0, pvalue=0.7560381329540834)"
      ]
     },
     "execution_count": 37,
     "metadata": {},
     "output_type": "execute_result"
    }
   ],
   "source": [
    "stats.mannwhitneyu(variant_CR, control_CR, alternative='greater')"
   ]
  },
  {
   "cell_type": "code",
   "execution_count": 38,
   "metadata": {},
   "outputs": [
    {
     "data": {
      "text/plain": [
       "MannwhitneyuResult(statistic=12478656.0, pvalue=0.48794424192486574)"
      ]
     },
     "execution_count": 38,
     "metadata": {},
     "output_type": "execute_result"
    }
   ],
   "source": [
    "stats.mannwhitneyu(variant_CR, control_CR, alternative='two-sided')"
   ]
  },
  {
   "cell_type": "markdown",
   "metadata": {},
   "source": [
    "Значит, нет оснований отклонять гипотезу H0: E(revenue(variant)) = E(revenue(control)). Математическое ожидание конверсии не изменилось. Пользователи совершают покупки с одинаковой периодичностью вне зависимости от дизайна сайта."
   ]
  },
  {
   "cell_type": "markdown",
   "metadata": {},
   "source": [
    "# Рассмотрим парные выборки - пользователей, которые были в обеих группах"
   ]
  },
  {
   "cell_type": "code",
   "execution_count": 39,
   "metadata": {},
   "outputs": [
    {
     "data": {
      "text/plain": [
       "1541"
      ]
     },
     "execution_count": 39,
     "metadata": {},
     "output_type": "execute_result"
    }
   ],
   "source": [
    "users_paired = list(set(df_variant.user_id.tolist()) & set(df_control.user_id.tolist()))\n",
    "\n",
    "count_users_paired = len(users_paired)\n",
    "count_users_paired"
   ]
  },
  {
   "cell_type": "code",
   "execution_count": 40,
   "metadata": {},
   "outputs": [],
   "source": [
    "df_paired = df[df.user_id.isin(users_paired)]"
   ]
  },
  {
   "cell_type": "markdown",
   "metadata": {},
   "source": [
    "## Как изменился доход?"
   ]
  },
  {
   "cell_type": "code",
   "execution_count": 41,
   "metadata": {},
   "outputs": [],
   "source": [
    "df_order = pd.concat([df_positive_variant, df_positive_control])"
   ]
  },
  {
   "cell_type": "code",
   "execution_count": 42,
   "metadata": {},
   "outputs": [],
   "source": [
    "indexes_order_paired = df_order.user_id.isin(users_paired)"
   ]
  },
  {
   "cell_type": "code",
   "execution_count": 43,
   "metadata": {},
   "outputs": [
    {
     "data": {
      "text/html": [
       "<div>\n",
       "<style scoped>\n",
       "    .dataframe tbody tr th:only-of-type {\n",
       "        vertical-align: middle;\n",
       "    }\n",
       "\n",
       "    .dataframe tbody tr th {\n",
       "        vertical-align: top;\n",
       "    }\n",
       "\n",
       "    .dataframe thead th {\n",
       "        text-align: right;\n",
       "    }\n",
       "</style>\n",
       "<table border=\"1\" class=\"dataframe\">\n",
       "  <thead>\n",
       "    <tr style=\"text-align: right;\">\n",
       "      <th></th>\n",
       "      <th>user_id</th>\n",
       "      <th>variant_name</th>\n",
       "      <th>revenue</th>\n",
       "    </tr>\n",
       "  </thead>\n",
       "  <tbody>\n",
       "    <tr>\n",
       "      <th>0</th>\n",
       "      <td>403</td>\n",
       "      <td>variant</td>\n",
       "      <td>1.99</td>\n",
       "    </tr>\n",
       "    <tr>\n",
       "      <th>1</th>\n",
       "      <td>618</td>\n",
       "      <td>control</td>\n",
       "      <td>2.19</td>\n",
       "    </tr>\n",
       "    <tr>\n",
       "      <th>2</th>\n",
       "      <td>701</td>\n",
       "      <td>control</td>\n",
       "      <td>17.08</td>\n",
       "    </tr>\n",
       "    <tr>\n",
       "      <th>3</th>\n",
       "      <td>702</td>\n",
       "      <td>variant</td>\n",
       "      <td>2.92</td>\n",
       "    </tr>\n",
       "    <tr>\n",
       "      <th>4</th>\n",
       "      <td>828</td>\n",
       "      <td>variant</td>\n",
       "      <td>0.60</td>\n",
       "    </tr>\n",
       "  </tbody>\n",
       "</table>\n",
       "</div>"
      ],
      "text/plain": [
       "   user_id variant_name  revenue\n",
       "0      403      variant     1.99\n",
       "1      618      control     2.19\n",
       "2      701      control    17.08\n",
       "3      702      variant     2.92\n",
       "4      828      variant     0.60"
      ]
     },
     "execution_count": 43,
     "metadata": {},
     "output_type": "execute_result"
    }
   ],
   "source": [
    "df_paired_order = df_order[indexes_order_paired].sort_values(by=['user_id']).reset_index(drop=True)\n",
    "\n",
    "df_paired_order.head()"
   ]
  },
  {
   "cell_type": "code",
   "execution_count": 44,
   "metadata": {},
   "outputs": [
    {
     "data": {
      "text/plain": [
       "(29, 26)"
      ]
     },
     "execution_count": 44,
     "metadata": {},
     "output_type": "execute_result"
    }
   ],
   "source": [
    "df_paired_variant_order = df_paired_order[df_paired_order.variant_name == 'variant']\n",
    "df_paired_control_order = df_paired_order[df_paired_order.variant_name == 'control']\n",
    "\n",
    "count_paired_variant_order = len(df_paired_variant_order)\n",
    "count_paired_control_order = len(df_paired_control_order)\n",
    "\n",
    "count_paired_variant_order, count_paired_control_order"
   ]
  },
  {
   "cell_type": "code",
   "execution_count": 45,
   "metadata": {},
   "outputs": [
    {
     "data": {
      "text/html": [
       "<div>\n",
       "<style scoped>\n",
       "    .dataframe tbody tr th:only-of-type {\n",
       "        vertical-align: middle;\n",
       "    }\n",
       "\n",
       "    .dataframe tbody tr th {\n",
       "        vertical-align: top;\n",
       "    }\n",
       "\n",
       "    .dataframe thead th {\n",
       "        text-align: right;\n",
       "    }\n",
       "</style>\n",
       "<table border=\"1\" class=\"dataframe\">\n",
       "  <thead>\n",
       "    <tr style=\"text-align: right;\">\n",
       "      <th></th>\n",
       "      <th>user_id</th>\n",
       "      <th>variant_name</th>\n",
       "      <th>revenue</th>\n",
       "    </tr>\n",
       "  </thead>\n",
       "  <tbody>\n",
       "    <tr>\n",
       "      <th>0</th>\n",
       "      <td>403</td>\n",
       "      <td>variant</td>\n",
       "      <td>1.99</td>\n",
       "    </tr>\n",
       "    <tr>\n",
       "      <th>1</th>\n",
       "      <td>618</td>\n",
       "      <td>control</td>\n",
       "      <td>2.19</td>\n",
       "    </tr>\n",
       "    <tr>\n",
       "      <th>2</th>\n",
       "      <td>701</td>\n",
       "      <td>control</td>\n",
       "      <td>17.08</td>\n",
       "    </tr>\n",
       "    <tr>\n",
       "      <th>3</th>\n",
       "      <td>702</td>\n",
       "      <td>variant</td>\n",
       "      <td>2.92</td>\n",
       "    </tr>\n",
       "    <tr>\n",
       "      <th>4</th>\n",
       "      <td>828</td>\n",
       "      <td>variant</td>\n",
       "      <td>0.60</td>\n",
       "    </tr>\n",
       "  </tbody>\n",
       "</table>\n",
       "</div>"
      ],
      "text/plain": [
       "   user_id variant_name  revenue\n",
       "0      403      variant     1.99\n",
       "1      618      control     2.19\n",
       "2      701      control    17.08\n",
       "3      702      variant     2.92\n",
       "4      828      variant     0.60"
      ]
     },
     "execution_count": 45,
     "metadata": {},
     "output_type": "execute_result"
    }
   ],
   "source": [
    "df_paired_mean_order = df_paired_order.groupby(['user_id', 'variant_name'])[['revenue']].mean().reset_index()\n",
    "df_paired_mean_order.head()"
   ]
  },
  {
   "cell_type": "code",
   "execution_count": 46,
   "metadata": {},
   "outputs": [
    {
     "data": {
      "text/plain": [
       "(29, 26)"
      ]
     },
     "execution_count": 46,
     "metadata": {},
     "output_type": "execute_result"
    }
   ],
   "source": [
    "df_variant_mean_order = df_paired_mean_order[df_paired_mean_order['variant_name'] == 'variant']\n",
    "df_control_mean_order = df_paired_mean_order[df_paired_mean_order['variant_name'] == 'control']\n",
    "\n",
    "count_paired_variant_mean_order = len(df_variant_mean_order)\n",
    "count_paired_control_mean_order = len(df_control_mean_order)\n",
    "\n",
    "count_paired_variant_mean_order, count_paired_control_mean_order"
   ]
  },
  {
   "cell_type": "code",
   "execution_count": 47,
   "metadata": {},
   "outputs": [
    {
     "data": {
      "text/plain": [
       "True"
      ]
     },
     "execution_count": 47,
     "metadata": {},
     "output_type": "execute_result"
    }
   ],
   "source": [
    "(count_paired_variant_order, count_paired_control_order) == (count_paired_variant_mean_order, count_paired_control_mean_order)"
   ]
  },
  {
   "cell_type": "markdown",
   "metadata": {},
   "source": [
    "Это равенство означает, что все, кто сделал заказ в группе, сделал ровно 1 заказ в этой группе"
   ]
  },
  {
   "cell_type": "markdown",
   "metadata": {},
   "source": [
    "### Изучим визуально"
   ]
  },
  {
   "cell_type": "code",
   "execution_count": 48,
   "metadata": {},
   "outputs": [
    {
     "data": {
      "text/plain": [
       "<AxesSubplot:xlabel='revenue'>"
      ]
     },
     "execution_count": 48,
     "metadata": {},
     "output_type": "execute_result"
    },
    {
     "data": {
      "image/png": "[encoded data removed]",
      "text/plain": [
       "<Figure size 432x288 with 1 Axes>"
      ]
     },
     "metadata": {
      "needs_background": "light"
     },
     "output_type": "display_data"
    }
   ],
   "source": [
    "sns.distplot(df_paired_variant_order.revenue)\n",
    "sns.distplot(df_paired_control_order.revenue)"
   ]
  },
  {
   "cell_type": "markdown",
   "metadata": {},
   "source": [
    "### Уберем выбросы"
   ]
  },
  {
   "cell_type": "code",
   "execution_count": 49,
   "metadata": {},
   "outputs": [
    {
     "data": {
      "text/plain": [
       "(0.596, 5.651999999999999)"
      ]
     },
     "execution_count": 49,
     "metadata": {},
     "output_type": "execute_result"
    }
   ],
   "source": [
    "min_border = np.percentile(df_paired_variant_order.revenue, 10)\n",
    "max_border = np.percentile(df_paired_variant_order.revenue, 90)\n",
    "min_border, max_border"
   ]
  },
  {
   "cell_type": "code",
   "execution_count": 50,
   "metadata": {},
   "outputs": [],
   "source": [
    "df_visual_paired_variant_order = df_paired_variant_order[(df_paired_variant_order['revenue'] > min_border) & (df_paired_variant_order['revenue'] < max_border)]"
   ]
  },
  {
   "cell_type": "code",
   "execution_count": 51,
   "metadata": {},
   "outputs": [
    {
     "data": {
      "text/plain": [
       "<AxesSubplot:xlabel='revenue'>"
      ]
     },
     "execution_count": 51,
     "metadata": {},
     "output_type": "execute_result"
    },
    {
     "data": {
      "image/png": "[encoded data removed]",
      "text/plain": [
       "<Figure size 432x288 with 1 Axes>"
      ]
     },
     "metadata": {
      "needs_background": "light"
     },
     "output_type": "display_data"
    }
   ],
   "source": [
    "sns.boxplot(x='revenue',\n",
    "           data=df_visual_paired_variant_order, orient='h')"
   ]
  },
  {
   "cell_type": "code",
   "execution_count": 52,
   "metadata": {},
   "outputs": [
    {
     "data": {
      "text/plain": [
       "(1.25, 17.475)"
      ]
     },
     "execution_count": 52,
     "metadata": {},
     "output_type": "execute_result"
    }
   ],
   "source": [
    "min_border = np.percentile(df_paired_control_order.revenue, 10)\n",
    "max_border = np.percentile(df_paired_control_order.revenue, 90)\n",
    "min_border, max_border"
   ]
  },
  {
   "cell_type": "code",
   "execution_count": 53,
   "metadata": {},
   "outputs": [],
   "source": [
    "df_visual_paired_control_order = df_paired_control_order[(df_paired_control_order['revenue'] > min_border) & (df_paired_control_order['revenue'] < max_border)]"
   ]
  },
  {
   "cell_type": "code",
   "execution_count": 54,
   "metadata": {},
   "outputs": [
    {
     "data": {
      "text/plain": [
       "<AxesSubplot:xlabel='revenue'>"
      ]
     },
     "execution_count": 54,
     "metadata": {},
     "output_type": "execute_result"
    },
    {
     "data": {
      "image/png": "[encoded data removed]",
      "text/plain": [
       "<Figure size 432x288 with 1 Axes>"
      ]
     },
     "metadata": {
      "needs_background": "light"
     },
     "output_type": "display_data"
    }
   ],
   "source": [
    "sns.boxplot(x='revenue',\n",
    "           data=df_visual_paired_control_order, orient='h')"
   ]
  },
  {
   "cell_type": "markdown",
   "metadata": {},
   "source": [
    "### Разные графики"
   ]
  },
  {
   "cell_type": "code",
   "execution_count": 55,
   "metadata": {},
   "outputs": [
    {
     "data": {
      "text/plain": [
       "<AxesSubplot:xlabel='revenue'>"
      ]
     },
     "execution_count": 55,
     "metadata": {},
     "output_type": "execute_result"
    },
    {
     "data": {
      "image/png": "[encoded data removed]",
      "text/plain": [
       "<Figure size 432x288 with 1 Axes>"
      ]
     },
     "metadata": {
      "needs_background": "light"
     },
     "output_type": "display_data"
    }
   ],
   "source": [
    "sns.distplot(df_visual_paired_variant_order.revenue)\n",
    "sns.distplot(df_visual_paired_control_order.revenue)"
   ]
  },
  {
   "cell_type": "code",
   "execution_count": 56,
   "metadata": {},
   "outputs": [
    {
     "data": {
      "text/plain": [
       "<AxesSubplot:xlabel='all', ylabel='revenue'>"
      ]
     },
     "execution_count": 56,
     "metadata": {},
     "output_type": "execute_result"
    },
    {
     "data": {
      "image/png": "[encoded data removed]",
      "text/plain": [
       "<Figure size 432x288 with 1 Axes>"
      ]
     },
     "metadata": {
      "needs_background": "light"
     },
     "output_type": "display_data"
    }
   ],
   "source": [
    "df_paired_violin = pd.concat([df_visual_paired_variant_order, df_visual_paired_control_order])\n",
    "\n",
    "df_paired_violin['all'] = ''\n",
    "sns.violinplot(x = 'all', y = 'revenue', data = df_violin, inner=\"quartile\", \n",
    "               hue = 'variant_name', split = 'True', palette = 'seismic', scale_hue = False, scale = 'area')"
   ]
  },
  {
   "cell_type": "code",
   "execution_count": 57,
   "metadata": {},
   "outputs": [
    {
     "data": {
      "text/plain": [
       "<AxesSubplot:xlabel='variant_name', ylabel='revenue'>"
      ]
     },
     "execution_count": 57,
     "metadata": {},
     "output_type": "execute_result"
    },
    {
     "data": {
      "image/png": "[encoded data removed]",
      "text/plain": [
       "<Figure size 432x288 with 1 Axes>"
      ]
     },
     "metadata": {
      "needs_background": "light"
     },
     "output_type": "display_data"
    }
   ],
   "source": [
    "sns.boxplot(x='variant_name', y='revenue', data=df_paired_violin)"
   ]
  },
  {
   "cell_type": "markdown",
   "metadata": {},
   "source": [
    "Выбросы будто через равные промежутки"
   ]
  },
  {
   "cell_type": "code",
   "execution_count": 58,
   "metadata": {},
   "outputs": [
    {
     "data": {
      "text/html": [
       "<div>\n",
       "<style scoped>\n",
       "    .dataframe tbody tr th:only-of-type {\n",
       "        vertical-align: middle;\n",
       "    }\n",
       "\n",
       "    .dataframe tbody tr th {\n",
       "        vertical-align: top;\n",
       "    }\n",
       "\n",
       "    .dataframe thead th {\n",
       "        text-align: right;\n",
       "    }\n",
       "</style>\n",
       "<table border=\"1\" class=\"dataframe\">\n",
       "  <thead>\n",
       "    <tr style=\"text-align: right;\">\n",
       "      <th></th>\n",
       "      <th>user_id</th>\n",
       "      <th>variant_name</th>\n",
       "      <th>revenue</th>\n",
       "    </tr>\n",
       "  </thead>\n",
       "  <tbody>\n",
       "    <tr>\n",
       "      <th>2</th>\n",
       "      <td>701</td>\n",
       "      <td>control</td>\n",
       "      <td>17.08</td>\n",
       "    </tr>\n",
       "    <tr>\n",
       "      <th>26</th>\n",
       "      <td>5205</td>\n",
       "      <td>control</td>\n",
       "      <td>14.17</td>\n",
       "    </tr>\n",
       "    <tr>\n",
       "      <th>29</th>\n",
       "      <td>5769</td>\n",
       "      <td>control</td>\n",
       "      <td>10.67</td>\n",
       "    </tr>\n",
       "    <tr>\n",
       "      <th>34</th>\n",
       "      <td>6492</td>\n",
       "      <td>control</td>\n",
       "      <td>7.58</td>\n",
       "    </tr>\n",
       "  </tbody>\n",
       "</table>\n",
       "</div>"
      ],
      "text/plain": [
       "    user_id variant_name  revenue\n",
       "2       701      control    17.08\n",
       "26     5205      control    14.17\n",
       "29     5769      control    10.67\n",
       "34     6492      control     7.58"
      ]
     },
     "execution_count": 58,
     "metadata": {},
     "output_type": "execute_result"
    }
   ],
   "source": [
    "df_visual_paired_control_order[df_visual_paired_control_order['revenue'] > 5]"
   ]
  },
  {
   "cell_type": "markdown",
   "metadata": {},
   "source": [
    "Не через равные, но через примерно 3. Возможно, этому есть объяснение - нужно смотреть на конкретные покупки и тогда можно будет ответить на вопрос как так получилось."
   ]
  },
  {
   "cell_type": "markdown",
   "metadata": {},
   "source": [
    "### Числа"
   ]
  },
  {
   "cell_type": "code",
   "execution_count": 59,
   "metadata": {},
   "outputs": [
    {
     "data": {
      "text/plain": [
       "(172.15000000000003, 172.44)"
      ]
     },
     "execution_count": 59,
     "metadata": {},
     "output_type": "execute_result"
    }
   ],
   "source": [
    "np.sum(df_variant_mean_order.revenue), np.sum(df_control_mean_order.revenue)"
   ]
  },
  {
   "cell_type": "code",
   "execution_count": 60,
   "metadata": {},
   "outputs": [
    {
     "data": {
      "text/plain": [
       "(5.936206896551726, 6.632307692307692)"
      ]
     },
     "execution_count": 60,
     "metadata": {},
     "output_type": "execute_result"
    }
   ],
   "source": [
    "mean_paired_order_variant = np.mean(df_paired[(df_paired['variant_name'] == 'variant') & (df_paired['revenue'] != 0)].revenue)\n",
    "mean_paired_order_control = np.mean(df_paired[(df_paired['variant_name'] == 'control') & (df_paired['revenue'] != 0)].revenue)\n",
    "\n",
    "mean_paired_order_variant, mean_paired_order_control"
   ]
  },
  {
   "cell_type": "code",
   "execution_count": 61,
   "metadata": {},
   "outputs": [
    {
     "data": {
      "text/plain": [
       "(29, 26)"
      ]
     },
     "execution_count": 61,
     "metadata": {},
     "output_type": "execute_result"
    }
   ],
   "source": [
    "len(df_variant_mean_order), len(df_control_mean_order)"
   ]
  },
  {
   "cell_type": "code",
   "execution_count": 62,
   "metadata": {},
   "outputs": [
    {
     "data": {
      "text/plain": [
       "(5.936206896551726, 6.632307692307692)"
      ]
     },
     "execution_count": 62,
     "metadata": {},
     "output_type": "execute_result"
    }
   ],
   "source": [
    "gmv_buyer_paired_variant = np.sum(df_variant_mean_order.revenue) / len(df_variant_mean_order)\n",
    "gmv_buyer_paired_control = np.sum(df_control_mean_order.revenue) / len(df_control_mean_order)\n",
    "\n",
    "gmv_buyer_paired_variant, gmv_buyer_paired_control"
   ]
  },
  {
   "cell_type": "markdown",
   "metadata": {},
   "source": [
    "### Доход увеличился? Выдвигаем и проверяем статистическую гипотезу\n",
    "\n",
    "Доход на пользователя - одна из основных метрик. Чем выше, тем лучше. Проверяя новую фичу мы хотим узнать увеличилась ли она. Поэтому гипотезы формулируются следующим образом:\n",
    "\n",
    "* H0: доход не изменился, то есть E(revenue(variant)) = E(revenue(control))\n",
    "* H1: доход увеличился, то есть E(revenue(variant)) > E(revenue(control))\n",
    "\n",
    "Хотим понять можем ли мы принять H0 с уровнем значимости alpha = 0.05?\n",
    "\n",
    "Сделаем допущение, что выборки независимы. Выборки разного размера, поэтому воспользуемся критерием Манни-Уитни для проверки нулевой гипотезы."
   ]
  },
  {
   "cell_type": "code",
   "execution_count": 63,
   "metadata": {},
   "outputs": [],
   "source": [
    "revenue_variant = df_variant_mean_order.revenue.tolist()\n",
    "revenue_control = df_control_mean_order.revenue.tolist()"
   ]
  },
  {
   "cell_type": "code",
   "execution_count": 64,
   "metadata": {},
   "outputs": [
    {
     "data": {
      "text/plain": [
       "MannwhitneyuResult(statistic=281.0, pvalue=0.9482022368607665)"
      ]
     },
     "execution_count": 64,
     "metadata": {},
     "output_type": "execute_result"
    }
   ],
   "source": [
    "stats.mannwhitneyu(revenue_variant, revenue_control, alternative='greater')"
   ]
  },
  {
   "cell_type": "markdown",
   "metadata": {},
   "source": [
    "#### Изменился?"
   ]
  },
  {
   "cell_type": "code",
   "execution_count": 65,
   "metadata": {},
   "outputs": [
    {
     "data": {
      "text/plain": [
       "MannwhitneyuResult(statistic=281.0, pvalue=0.10722333697121259)"
      ]
     },
     "execution_count": 65,
     "metadata": {},
     "output_type": "execute_result"
    }
   ],
   "source": [
    "stats.mannwhitneyu(revenue_variant, revenue_control, alternative='two-sided')"
   ]
  },
  {
   "cell_type": "markdown",
   "metadata": {},
   "source": [
    "p-value >> alpha = 0.05 оба раза, значит, нет оснований отклонять гипотезу H0. Конкретные пользователи, которые видели и тот дизайн, и другой, тратят одинаково вне зависимости от того, какой дизайн они сейчас видят"
   ]
  },
  {
   "cell_type": "markdown",
   "metadata": {},
   "source": [
    "## Как изменилась конверсия по пользователям?"
   ]
  },
  {
   "cell_type": "code",
   "execution_count": 66,
   "metadata": {},
   "outputs": [],
   "source": [
    "df_paired_cr = df_paired.copy()\n",
    "df_paired_cr['payed'] = df_paired_cr.apply(lambda row: 0 if row.revenue == 0 else 1, axis = 1)"
   ]
  },
  {
   "cell_type": "code",
   "execution_count": 67,
   "metadata": {},
   "outputs": [
    {
     "data": {
      "text/html": [
       "<div>\n",
       "<style scoped>\n",
       "    .dataframe tbody tr th:only-of-type {\n",
       "        vertical-align: middle;\n",
       "    }\n",
       "\n",
       "    .dataframe tbody tr th {\n",
       "        vertical-align: top;\n",
       "    }\n",
       "\n",
       "    .dataframe thead th {\n",
       "        text-align: right;\n",
       "    }\n",
       "</style>\n",
       "<table border=\"1\" class=\"dataframe\">\n",
       "  <thead>\n",
       "    <tr style=\"text-align: right;\">\n",
       "      <th></th>\n",
       "      <th>user_id</th>\n",
       "      <th>variant_name</th>\n",
       "      <th>payed</th>\n",
       "    </tr>\n",
       "  </thead>\n",
       "  <tbody>\n",
       "    <tr>\n",
       "      <th>0</th>\n",
       "      <td>3</td>\n",
       "      <td>control</td>\n",
       "      <td>0.0</td>\n",
       "    </tr>\n",
       "    <tr>\n",
       "      <th>1</th>\n",
       "      <td>3</td>\n",
       "      <td>variant</td>\n",
       "      <td>0.0</td>\n",
       "    </tr>\n",
       "    <tr>\n",
       "      <th>2</th>\n",
       "      <td>10</td>\n",
       "      <td>control</td>\n",
       "      <td>0.0</td>\n",
       "    </tr>\n",
       "    <tr>\n",
       "      <th>3</th>\n",
       "      <td>10</td>\n",
       "      <td>variant</td>\n",
       "      <td>0.0</td>\n",
       "    </tr>\n",
       "    <tr>\n",
       "      <th>4</th>\n",
       "      <td>18</td>\n",
       "      <td>control</td>\n",
       "      <td>0.0</td>\n",
       "    </tr>\n",
       "  </tbody>\n",
       "</table>\n",
       "</div>"
      ],
      "text/plain": [
       "   user_id variant_name  payed\n",
       "0        3      control    0.0\n",
       "1        3      variant    0.0\n",
       "2       10      control    0.0\n",
       "3       10      variant    0.0\n",
       "4       18      control    0.0"
      ]
     },
     "execution_count": 67,
     "metadata": {},
     "output_type": "execute_result"
    }
   ],
   "source": [
    "df_paired_mean_cr = df_paired_cr.groupby(['user_id', 'variant_name'])[['payed']].mean().reset_index()\n",
    "df_paired_mean_cr.head()"
   ]
  },
  {
   "cell_type": "code",
   "execution_count": 68,
   "metadata": {},
   "outputs": [],
   "source": [
    "df_variant_mean_cr = df_paired_mean_cr[df_paired_mean_cr['variant_name'] == 'variant']\n",
    "df_control_mean_cr = df_paired_mean_cr[df_paired_mean_cr['variant_name'] == 'control']"
   ]
  },
  {
   "cell_type": "code",
   "execution_count": 69,
   "metadata": {},
   "outputs": [
    {
     "data": {
      "text/plain": [
       "(1541, 1541)"
      ]
     },
     "execution_count": 69,
     "metadata": {},
     "output_type": "execute_result"
    }
   ],
   "source": [
    "count_paired_variant = len(df_variant_mean_cr)\n",
    "count_paired_control = len(df_control_mean_cr)\n",
    "\n",
    "count_paired_variant, count_paired_control"
   ]
  },
  {
   "cell_type": "code",
   "execution_count": 70,
   "metadata": {},
   "outputs": [
    {
     "data": {
      "text/plain": [
       "(29, 26)"
      ]
     },
     "execution_count": 70,
     "metadata": {},
     "output_type": "execute_result"
    }
   ],
   "source": [
    "count_paired_variant_order = len(df_variant_mean_cr[df_variant_mean_cr['payed'] != 0])\n",
    "count_paired_control_order = len(df_control_mean_cr[df_control_mean_cr['payed'] != 0])\n",
    "\n",
    "count_paired_variant_order, count_paired_control_order"
   ]
  },
  {
   "cell_type": "markdown",
   "metadata": {},
   "source": [
    "## Конверсия"
   ]
  },
  {
   "cell_type": "code",
   "execution_count": 71,
   "metadata": {},
   "outputs": [
    {
     "data": {
      "text/plain": [
       "(0.01881894873458793, 0.016872160934458143)"
      ]
     },
     "execution_count": 71,
     "metadata": {},
     "output_type": "execute_result"
    }
   ],
   "source": [
    "mean_paired_variant_CR = count_paired_variant_order / count_paired_variant\n",
    "mean_paired_control_CR = count_paired_control_order / count_paired_control\n",
    "\n",
    "mean_paired_variant_CR, mean_paired_control_CR"
   ]
  },
  {
   "cell_type": "code",
   "execution_count": 72,
   "metadata": {},
   "outputs": [
    {
     "data": {
      "text/plain": [
       "(0.014600908500973394, 0.010707332900713823)"
      ]
     },
     "execution_count": 72,
     "metadata": {},
     "output_type": "execute_result"
    }
   ],
   "source": [
    "mean_paired_variant_CR_user = np.mean(df_variant_mean_cr.payed)\n",
    "mean_paired_control_CR_user = np.mean(df_control_mean_cr.payed)\n",
    "\n",
    "mean_paired_variant_CR_user, mean_paired_control_CR_user"
   ]
  },
  {
   "cell_type": "markdown",
   "metadata": {},
   "source": [
    "### Конверсия увеличилась в парной выборке? Выдвигаем и проверяем статистическую гипотезу\n",
    "\n",
    "Конверсия - одна из основных метрик. Чем выше, тем лучше. Проверяя новую фичу мы хотим узнать увеличилась у нас конверсия или нет. Поэтому гипотезы формулируются следующим образом:\n",
    "\n",
    "* H0: конверсия не изменилась, то есть E(cr(variant)) = E(cr(control))\n",
    "* H1: конверсия увеличилась, то есть E(cr(variant)) > E(cr(control))\n",
    "* H1': конверсия изменилась, то есть E(cr(variant)) != E(cr(control))\n",
    "\n",
    "Хотим понять можем ли мы принять H0 с уровнем значимости alpha = 0.05?\n",
    "\n",
    "Воспользуемся критерием Вилкоксона для парных выборок."
   ]
  },
  {
   "cell_type": "code",
   "execution_count": 73,
   "metadata": {},
   "outputs": [],
   "source": [
    "cr_variant = df_variant_mean_cr.payed.tolist()\n",
    "cr_control = df_control_mean_cr.payed.tolist()"
   ]
  },
  {
   "cell_type": "code",
   "execution_count": 74,
   "metadata": {},
   "outputs": [
    {
     "data": {
      "text/plain": [
       "WilcoxonResult(statistic=876.5, pvalue=0.11914133927733717)"
      ]
     },
     "execution_count": 74,
     "metadata": {},
     "output_type": "execute_result"
    }
   ],
   "source": [
    "stats.wilcoxon(cr_variant, cr_control, alternative='greater')"
   ]
  },
  {
   "cell_type": "code",
   "execution_count": 75,
   "metadata": {},
   "outputs": [
    {
     "data": {
      "text/plain": [
       "WilcoxonResult(statistic=608.5, pvalue=0.23828267855467433)"
      ]
     },
     "execution_count": 75,
     "metadata": {},
     "output_type": "execute_result"
    }
   ],
   "source": [
    "stats.wilcoxon(cr_variant, cr_control, alternative='two-sided')"
   ]
  },
  {
   "cell_type": "markdown",
   "metadata": {},
   "source": [
    "p-value > alpha = 0.05 оба раза, поэтому нет оснований отклонять гипотезу H0. Конкретный пользователь одинаково покупает или не покупает при разном дизайне сайта."
   ]
  },
  {
   "cell_type": "markdown",
   "metadata": {},
   "source": [
    "# Соберем все вместе с помощью Excel\n",
    "\n",
    "В файле result.xlsx собраны графики, числовые значения и решения о значимости.\n",
    "\n",
    "Чтобы открыть скриншот таблицы, запустите следующий абзац:"
   ]
  },
  {
   "cell_type": "code",
   "execution_count": 76,
   "metadata": {},
   "outputs": [],
   "source": [
    "from PIL import Image                                                                                \n",
    "img = Image.open('result.png')\n",
    "img.show() "
   ]
  },
  {
   "cell_type": "markdown",
   "metadata": {},
   "source": [
    "# Промежуточный вывод\n",
    "\n",
    "В рамках сформулированной выше задачи сделаем промежуточный вывод из данных:\n",
    "\n",
    "В тестовой группе выявлены значимое падение по многим метрикам: общий доход, средняя сумма заказа и средняя сумма заказа пользователя на 38-45%.\n",
    "\n",
    "При этом общее число заказов и конверсия сессии в заказ не изменились значимо.\n",
    "\n",
    "===\n",
    "\n",
    "Парная выборка, составленная из исходных сырых данных, не показала значимой разницы между метриками. Требуется больше данных для принятия статистически верного решения (сейчас высока вероятность ошибки второго рода).\n",
    "\n",
    "===\n",
    "\n",
    "Разница в метриках объясняется наличием множественных выбросов в контрольной группе. Крупные заказы изредка совершают при обычном дизайне, но не совершают при новом.\n",
    "\n",
    "#### Как так получается, что люди совершают дорогие покупки в control?"
   ]
  },
  {
   "cell_type": "markdown",
   "metadata": {},
   "source": [
    "# Изучим хвосты внимательнее"
   ]
  },
  {
   "cell_type": "code",
   "execution_count": 77,
   "metadata": {},
   "outputs": [
    {
     "data": {
      "text/plain": [
       "27"
      ]
     },
     "execution_count": 77,
     "metadata": {},
     "output_type": "execute_result"
    }
   ],
   "source": [
    "count_top = len(df[df.revenue > 8])\n",
    "\n",
    "count_top"
   ]
  },
  {
   "cell_type": "code",
   "execution_count": 78,
   "metadata": {},
   "outputs": [
    {
     "data": {
      "text/plain": [
       "0.17763157894736842"
      ]
     },
     "execution_count": 78,
     "metadata": {},
     "output_type": "execute_result"
    }
   ],
   "source": [
    "count_top / len(df[df.revenue > 0])"
   ]
  },
  {
   "cell_type": "code",
   "execution_count": 79,
   "metadata": {},
   "outputs": [],
   "source": [
    "top_user_ids = df[df.revenue > 8]['user_id'].tolist()"
   ]
  },
  {
   "cell_type": "code",
   "execution_count": 80,
   "metadata": {},
   "outputs": [],
   "source": [
    "df_top = df[df.user_id.isin(top_user_ids)]"
   ]
  },
  {
   "cell_type": "code",
   "execution_count": 81,
   "metadata": {},
   "outputs": [
    {
     "data": {
      "text/html": [
       "<div>\n",
       "<style scoped>\n",
       "    .dataframe tbody tr th:only-of-type {\n",
       "        vertical-align: middle;\n",
       "    }\n",
       "\n",
       "    .dataframe tbody tr th {\n",
       "        vertical-align: top;\n",
       "    }\n",
       "\n",
       "    .dataframe thead th {\n",
       "        text-align: right;\n",
       "    }\n",
       "</style>\n",
       "<table border=\"1\" class=\"dataframe\">\n",
       "  <thead>\n",
       "    <tr style=\"text-align: right;\">\n",
       "      <th></th>\n",
       "      <th>user_id</th>\n",
       "      <th>variant_name</th>\n",
       "      <th>revenue</th>\n",
       "    </tr>\n",
       "  </thead>\n",
       "  <tbody>\n",
       "    <tr>\n",
       "      <th>0</th>\n",
       "      <td>282</td>\n",
       "      <td>control</td>\n",
       "      <td>0.00</td>\n",
       "    </tr>\n",
       "    <tr>\n",
       "      <th>1</th>\n",
       "      <td>282</td>\n",
       "      <td>control</td>\n",
       "      <td>18.56</td>\n",
       "    </tr>\n",
       "    <tr>\n",
       "      <th>2</th>\n",
       "      <td>701</td>\n",
       "      <td>control</td>\n",
       "      <td>0.00</td>\n",
       "    </tr>\n",
       "    <tr>\n",
       "      <th>3</th>\n",
       "      <td>701</td>\n",
       "      <td>variant</td>\n",
       "      <td>0.00</td>\n",
       "    </tr>\n",
       "    <tr>\n",
       "      <th>4</th>\n",
       "      <td>701</td>\n",
       "      <td>control</td>\n",
       "      <td>17.08</td>\n",
       "    </tr>\n",
       "    <tr>\n",
       "      <th>5</th>\n",
       "      <td>831</td>\n",
       "      <td>control</td>\n",
       "      <td>25.98</td>\n",
       "    </tr>\n",
       "    <tr>\n",
       "      <th>6</th>\n",
       "      <td>831</td>\n",
       "      <td>variant</td>\n",
       "      <td>0.00</td>\n",
       "    </tr>\n",
       "    <tr>\n",
       "      <th>7</th>\n",
       "      <td>831</td>\n",
       "      <td>control</td>\n",
       "      <td>0.00</td>\n",
       "    </tr>\n",
       "    <tr>\n",
       "      <th>8</th>\n",
       "      <td>1053</td>\n",
       "      <td>control</td>\n",
       "      <td>0.00</td>\n",
       "    </tr>\n",
       "    <tr>\n",
       "      <th>9</th>\n",
       "      <td>1053</td>\n",
       "      <td>control</td>\n",
       "      <td>0.00</td>\n",
       "    </tr>\n",
       "    <tr>\n",
       "      <th>10</th>\n",
       "      <td>1053</td>\n",
       "      <td>control</td>\n",
       "      <td>0.00</td>\n",
       "    </tr>\n",
       "    <tr>\n",
       "      <th>11</th>\n",
       "      <td>1053</td>\n",
       "      <td>control</td>\n",
       "      <td>20.07</td>\n",
       "    </tr>\n",
       "    <tr>\n",
       "      <th>12</th>\n",
       "      <td>1773</td>\n",
       "      <td>control</td>\n",
       "      <td>11.98</td>\n",
       "    </tr>\n",
       "    <tr>\n",
       "      <th>13</th>\n",
       "      <td>1788</td>\n",
       "      <td>control</td>\n",
       "      <td>8.66</td>\n",
       "    </tr>\n",
       "    <tr>\n",
       "      <th>14</th>\n",
       "      <td>1973</td>\n",
       "      <td>control</td>\n",
       "      <td>14.07</td>\n",
       "    </tr>\n",
       "    <tr>\n",
       "      <th>15</th>\n",
       "      <td>2059</td>\n",
       "      <td>control</td>\n",
       "      <td>14.24</td>\n",
       "    </tr>\n",
       "    <tr>\n",
       "      <th>16</th>\n",
       "      <td>2166</td>\n",
       "      <td>control</td>\n",
       "      <td>0.00</td>\n",
       "    </tr>\n",
       "    <tr>\n",
       "      <th>17</th>\n",
       "      <td>2166</td>\n",
       "      <td>control</td>\n",
       "      <td>29.32</td>\n",
       "    </tr>\n",
       "    <tr>\n",
       "      <th>18</th>\n",
       "      <td>2212</td>\n",
       "      <td>control</td>\n",
       "      <td>9.99</td>\n",
       "    </tr>\n",
       "    <tr>\n",
       "      <th>19</th>\n",
       "      <td>2881</td>\n",
       "      <td>variant</td>\n",
       "      <td>58.63</td>\n",
       "    </tr>\n",
       "    <tr>\n",
       "      <th>20</th>\n",
       "      <td>2881</td>\n",
       "      <td>variant</td>\n",
       "      <td>0.00</td>\n",
       "    </tr>\n",
       "    <tr>\n",
       "      <th>21</th>\n",
       "      <td>2881</td>\n",
       "      <td>control</td>\n",
       "      <td>0.00</td>\n",
       "    </tr>\n",
       "    <tr>\n",
       "      <th>22</th>\n",
       "      <td>2881</td>\n",
       "      <td>control</td>\n",
       "      <td>0.00</td>\n",
       "    </tr>\n",
       "    <tr>\n",
       "      <th>23</th>\n",
       "      <td>2928</td>\n",
       "      <td>control</td>\n",
       "      <td>8.66</td>\n",
       "    </tr>\n",
       "    <tr>\n",
       "      <th>24</th>\n",
       "      <td>3326</td>\n",
       "      <td>variant</td>\n",
       "      <td>0.00</td>\n",
       "    </tr>\n",
       "    <tr>\n",
       "      <th>25</th>\n",
       "      <td>3326</td>\n",
       "      <td>variant</td>\n",
       "      <td>10.82</td>\n",
       "    </tr>\n",
       "    <tr>\n",
       "      <th>26</th>\n",
       "      <td>3342</td>\n",
       "      <td>control</td>\n",
       "      <td>196.01</td>\n",
       "    </tr>\n",
       "    <tr>\n",
       "      <th>27</th>\n",
       "      <td>3684</td>\n",
       "      <td>variant</td>\n",
       "      <td>19.47</td>\n",
       "    </tr>\n",
       "    <tr>\n",
       "      <th>28</th>\n",
       "      <td>4445</td>\n",
       "      <td>control</td>\n",
       "      <td>17.05</td>\n",
       "    </tr>\n",
       "    <tr>\n",
       "      <th>29</th>\n",
       "      <td>4966</td>\n",
       "      <td>variant</td>\n",
       "      <td>12.99</td>\n",
       "    </tr>\n",
       "    <tr>\n",
       "      <th>30</th>\n",
       "      <td>5205</td>\n",
       "      <td>control</td>\n",
       "      <td>0.00</td>\n",
       "    </tr>\n",
       "    <tr>\n",
       "      <th>31</th>\n",
       "      <td>5205</td>\n",
       "      <td>variant</td>\n",
       "      <td>0.00</td>\n",
       "    </tr>\n",
       "    <tr>\n",
       "      <th>32</th>\n",
       "      <td>5205</td>\n",
       "      <td>control</td>\n",
       "      <td>14.17</td>\n",
       "    </tr>\n",
       "    <tr>\n",
       "      <th>33</th>\n",
       "      <td>5205</td>\n",
       "      <td>control</td>\n",
       "      <td>0.00</td>\n",
       "    </tr>\n",
       "    <tr>\n",
       "      <th>34</th>\n",
       "      <td>5769</td>\n",
       "      <td>variant</td>\n",
       "      <td>0.00</td>\n",
       "    </tr>\n",
       "    <tr>\n",
       "      <th>35</th>\n",
       "      <td>5769</td>\n",
       "      <td>control</td>\n",
       "      <td>0.00</td>\n",
       "    </tr>\n",
       "    <tr>\n",
       "      <th>36</th>\n",
       "      <td>5769</td>\n",
       "      <td>control</td>\n",
       "      <td>10.67</td>\n",
       "    </tr>\n",
       "    <tr>\n",
       "      <th>37</th>\n",
       "      <td>6294</td>\n",
       "      <td>variant</td>\n",
       "      <td>12.99</td>\n",
       "    </tr>\n",
       "    <tr>\n",
       "      <th>38</th>\n",
       "      <td>6365</td>\n",
       "      <td>control</td>\n",
       "      <td>10.63</td>\n",
       "    </tr>\n",
       "    <tr>\n",
       "      <th>39</th>\n",
       "      <td>6792</td>\n",
       "      <td>variant</td>\n",
       "      <td>0.00</td>\n",
       "    </tr>\n",
       "    <tr>\n",
       "      <th>40</th>\n",
       "      <td>6792</td>\n",
       "      <td>variant</td>\n",
       "      <td>0.00</td>\n",
       "    </tr>\n",
       "    <tr>\n",
       "      <th>41</th>\n",
       "      <td>6792</td>\n",
       "      <td>control</td>\n",
       "      <td>41.53</td>\n",
       "    </tr>\n",
       "    <tr>\n",
       "      <th>42</th>\n",
       "      <td>7206</td>\n",
       "      <td>control</td>\n",
       "      <td>0.00</td>\n",
       "    </tr>\n",
       "    <tr>\n",
       "      <th>43</th>\n",
       "      <td>7206</td>\n",
       "      <td>variant</td>\n",
       "      <td>57.46</td>\n",
       "    </tr>\n",
       "    <tr>\n",
       "      <th>44</th>\n",
       "      <td>7356</td>\n",
       "      <td>variant</td>\n",
       "      <td>23.04</td>\n",
       "    </tr>\n",
       "    <tr>\n",
       "      <th>45</th>\n",
       "      <td>7358</td>\n",
       "      <td>control</td>\n",
       "      <td>0.00</td>\n",
       "    </tr>\n",
       "    <tr>\n",
       "      <th>46</th>\n",
       "      <td>7358</td>\n",
       "      <td>variant</td>\n",
       "      <td>0.00</td>\n",
       "    </tr>\n",
       "    <tr>\n",
       "      <th>47</th>\n",
       "      <td>7358</td>\n",
       "      <td>control</td>\n",
       "      <td>17.87</td>\n",
       "    </tr>\n",
       "    <tr>\n",
       "      <th>48</th>\n",
       "      <td>8020</td>\n",
       "      <td>control</td>\n",
       "      <td>0.00</td>\n",
       "    </tr>\n",
       "    <tr>\n",
       "      <th>49</th>\n",
       "      <td>8020</td>\n",
       "      <td>control</td>\n",
       "      <td>9.91</td>\n",
       "    </tr>\n",
       "    <tr>\n",
       "      <th>50</th>\n",
       "      <td>8886</td>\n",
       "      <td>variant</td>\n",
       "      <td>8.70</td>\n",
       "    </tr>\n",
       "    <tr>\n",
       "      <th>51</th>\n",
       "      <td>8886</td>\n",
       "      <td>variant</td>\n",
       "      <td>0.00</td>\n",
       "    </tr>\n",
       "  </tbody>\n",
       "</table>\n",
       "</div>"
      ],
      "text/plain": [
       "    user_id variant_name  revenue\n",
       "0       282      control     0.00\n",
       "1       282      control    18.56\n",
       "2       701      control     0.00\n",
       "3       701      variant     0.00\n",
       "4       701      control    17.08\n",
       "5       831      control    25.98\n",
       "6       831      variant     0.00\n",
       "7       831      control     0.00\n",
       "8      1053      control     0.00\n",
       "9      1053      control     0.00\n",
       "10     1053      control     0.00\n",
       "11     1053      control    20.07\n",
       "12     1773      control    11.98\n",
       "13     1788      control     8.66\n",
       "14     1973      control    14.07\n",
       "15     2059      control    14.24\n",
       "16     2166      control     0.00\n",
       "17     2166      control    29.32\n",
       "18     2212      control     9.99\n",
       "19     2881      variant    58.63\n",
       "20     2881      variant     0.00\n",
       "21     2881      control     0.00\n",
       "22     2881      control     0.00\n",
       "23     2928      control     8.66\n",
       "24     3326      variant     0.00\n",
       "25     3326      variant    10.82\n",
       "26     3342      control   196.01\n",
       "27     3684      variant    19.47\n",
       "28     4445      control    17.05\n",
       "29     4966      variant    12.99\n",
       "30     5205      control     0.00\n",
       "31     5205      variant     0.00\n",
       "32     5205      control    14.17\n",
       "33     5205      control     0.00\n",
       "34     5769      variant     0.00\n",
       "35     5769      control     0.00\n",
       "36     5769      control    10.67\n",
       "37     6294      variant    12.99\n",
       "38     6365      control    10.63\n",
       "39     6792      variant     0.00\n",
       "40     6792      variant     0.00\n",
       "41     6792      control    41.53\n",
       "42     7206      control     0.00\n",
       "43     7206      variant    57.46\n",
       "44     7356      variant    23.04\n",
       "45     7358      control     0.00\n",
       "46     7358      variant     0.00\n",
       "47     7358      control    17.87\n",
       "48     8020      control     0.00\n",
       "49     8020      control     9.91\n",
       "50     8886      variant     8.70\n",
       "51     8886      variant     0.00"
      ]
     },
     "execution_count": 81,
     "metadata": {},
     "output_type": "execute_result"
    }
   ],
   "source": [
    "df_top.sort_values(by=['user_id']).reset_index(drop=True)"
   ]
  },
  {
   "cell_type": "code",
   "execution_count": 82,
   "metadata": {},
   "outputs": [
    {
     "data": {
      "text/html": [
       "<div>\n",
       "<style scoped>\n",
       "    .dataframe tbody tr th:only-of-type {\n",
       "        vertical-align: middle;\n",
       "    }\n",
       "\n",
       "    .dataframe tbody tr th {\n",
       "        vertical-align: top;\n",
       "    }\n",
       "\n",
       "    .dataframe thead th {\n",
       "        text-align: right;\n",
       "    }\n",
       "</style>\n",
       "<table border=\"1\" class=\"dataframe\">\n",
       "  <thead>\n",
       "    <tr style=\"text-align: right;\">\n",
       "      <th></th>\n",
       "      <th>revenue</th>\n",
       "    </tr>\n",
       "    <tr>\n",
       "      <th>user_id</th>\n",
       "      <th></th>\n",
       "    </tr>\n",
       "  </thead>\n",
       "  <tbody>\n",
       "    <tr>\n",
       "      <th>282</th>\n",
       "      <td>2</td>\n",
       "    </tr>\n",
       "    <tr>\n",
       "      <th>701</th>\n",
       "      <td>3</td>\n",
       "    </tr>\n",
       "    <tr>\n",
       "      <th>831</th>\n",
       "      <td>3</td>\n",
       "    </tr>\n",
       "    <tr>\n",
       "      <th>1053</th>\n",
       "      <td>4</td>\n",
       "    </tr>\n",
       "    <tr>\n",
       "      <th>1773</th>\n",
       "      <td>1</td>\n",
       "    </tr>\n",
       "    <tr>\n",
       "      <th>1788</th>\n",
       "      <td>1</td>\n",
       "    </tr>\n",
       "    <tr>\n",
       "      <th>1973</th>\n",
       "      <td>1</td>\n",
       "    </tr>\n",
       "    <tr>\n",
       "      <th>2059</th>\n",
       "      <td>1</td>\n",
       "    </tr>\n",
       "    <tr>\n",
       "      <th>2166</th>\n",
       "      <td>2</td>\n",
       "    </tr>\n",
       "    <tr>\n",
       "      <th>2212</th>\n",
       "      <td>1</td>\n",
       "    </tr>\n",
       "    <tr>\n",
       "      <th>2881</th>\n",
       "      <td>4</td>\n",
       "    </tr>\n",
       "    <tr>\n",
       "      <th>2928</th>\n",
       "      <td>1</td>\n",
       "    </tr>\n",
       "    <tr>\n",
       "      <th>3326</th>\n",
       "      <td>2</td>\n",
       "    </tr>\n",
       "    <tr>\n",
       "      <th>3342</th>\n",
       "      <td>1</td>\n",
       "    </tr>\n",
       "    <tr>\n",
       "      <th>3684</th>\n",
       "      <td>1</td>\n",
       "    </tr>\n",
       "    <tr>\n",
       "      <th>4445</th>\n",
       "      <td>1</td>\n",
       "    </tr>\n",
       "    <tr>\n",
       "      <th>4966</th>\n",
       "      <td>1</td>\n",
       "    </tr>\n",
       "    <tr>\n",
       "      <th>5205</th>\n",
       "      <td>4</td>\n",
       "    </tr>\n",
       "    <tr>\n",
       "      <th>5769</th>\n",
       "      <td>3</td>\n",
       "    </tr>\n",
       "    <tr>\n",
       "      <th>6294</th>\n",
       "      <td>1</td>\n",
       "    </tr>\n",
       "    <tr>\n",
       "      <th>6365</th>\n",
       "      <td>1</td>\n",
       "    </tr>\n",
       "    <tr>\n",
       "      <th>6792</th>\n",
       "      <td>3</td>\n",
       "    </tr>\n",
       "    <tr>\n",
       "      <th>7206</th>\n",
       "      <td>2</td>\n",
       "    </tr>\n",
       "    <tr>\n",
       "      <th>7356</th>\n",
       "      <td>1</td>\n",
       "    </tr>\n",
       "    <tr>\n",
       "      <th>7358</th>\n",
       "      <td>3</td>\n",
       "    </tr>\n",
       "    <tr>\n",
       "      <th>8020</th>\n",
       "      <td>2</td>\n",
       "    </tr>\n",
       "    <tr>\n",
       "      <th>8886</th>\n",
       "      <td>2</td>\n",
       "    </tr>\n",
       "  </tbody>\n",
       "</table>\n",
       "</div>"
      ],
      "text/plain": [
       "         revenue\n",
       "user_id         \n",
       "282            2\n",
       "701            3\n",
       "831            3\n",
       "1053           4\n",
       "1773           1\n",
       "1788           1\n",
       "1973           1\n",
       "2059           1\n",
       "2166           2\n",
       "2212           1\n",
       "2881           4\n",
       "2928           1\n",
       "3326           2\n",
       "3342           1\n",
       "3684           1\n",
       "4445           1\n",
       "4966           1\n",
       "5205           4\n",
       "5769           3\n",
       "6294           1\n",
       "6365           1\n",
       "6792           3\n",
       "7206           2\n",
       "7356           1\n",
       "7358           3\n",
       "8020           2\n",
       "8886           2"
      ]
     },
     "execution_count": 82,
     "metadata": {},
     "output_type": "execute_result"
    }
   ],
   "source": [
    "df_top.groupby(['user_id'])[['revenue']].count()"
   ]
  },
  {
   "cell_type": "code",
   "execution_count": 83,
   "metadata": {},
   "outputs": [],
   "source": [
    "df_top_count = df_top.groupby(['user_id'])[['revenue']].count()"
   ]
  },
  {
   "cell_type": "code",
   "execution_count": 84,
   "metadata": {},
   "outputs": [
    {
     "data": {
      "text/plain": [
       "(1.9259259259259258, 1.0, 2.0, 3.0)"
      ]
     },
     "execution_count": 84,
     "metadata": {},
     "output_type": "execute_result"
    }
   ],
   "source": [
    "np.mean(df_top_count['revenue']), np.percentile(df_top_count['revenue'], 25), np.percentile(df_top_count['revenue'], 50), np.percentile(df_top_count['revenue'], 75)"
   ]
  },
  {
   "cell_type": "markdown",
   "metadata": {},
   "source": [
    "#### Как много раз зашли люди, совершившие дорогой заказ?"
   ]
  },
  {
   "cell_type": "code",
   "execution_count": 85,
   "metadata": {},
   "outputs": [
    {
     "data": {
      "text/plain": [
       "(1.5812776723592663, 1.0, 1.0, 2.0)"
      ]
     },
     "execution_count": 85,
     "metadata": {},
     "output_type": "execute_result"
    }
   ],
   "source": [
    "df_count = df.copy()\n",
    "df_count = df_count.groupby(['user_id'])[['revenue']].count()\n",
    "np.mean(df_count['revenue']), np.percentile(df_count['revenue'], 25), np.percentile(df_count['revenue'], 50), np.percentile(df_count['revenue'], 75)"
   ]
  },
  {
   "cell_type": "markdown",
   "metadata": {},
   "source": [
    "#### Как много раз зашли люди, совершившие заказ?"
   ]
  },
  {
   "cell_type": "code",
   "execution_count": 86,
   "metadata": {},
   "outputs": [
    {
     "data": {
      "text/plain": [
       "(2.0533333333333332, 1.0, 2.0, 3.0)"
      ]
     },
     "execution_count": 86,
     "metadata": {},
     "output_type": "execute_result"
    }
   ],
   "source": [
    "df_count_order = df.copy()\n",
    "df_count_order = df_count_order.groupby(['user_id'])[['revenue']].agg(['sum', 'count'])\n",
    "df_count_order = df_count_order[df_count_order['revenue']['sum'] != 0]\n",
    "np.mean(df_count_order['revenue']['count']), np.percentile(df_count_order['revenue']['count'], 25), np.percentile(df_count_order['revenue']['count'], 50), np.percentile(df_count_order['revenue']['count'], 75)"
   ]
  },
  {
   "cell_type": "code",
   "execution_count": 87,
   "metadata": {},
   "outputs": [
    {
     "data": {
      "text/plain": [
       "27"
      ]
     },
     "execution_count": 87,
     "metadata": {},
     "output_type": "execute_result"
    }
   ],
   "source": [
    "len(df_top_count)"
   ]
  },
  {
   "cell_type": "code",
   "execution_count": 88,
   "metadata": {},
   "outputs": [
    {
     "data": {
      "text/plain": [
       "14"
      ]
     },
     "execution_count": 88,
     "metadata": {},
     "output_type": "execute_result"
    }
   ],
   "source": [
    "len(df_top_count[df_top_count['revenue'] > 1])"
   ]
  },
  {
   "cell_type": "code",
   "execution_count": 89,
   "metadata": {},
   "outputs": [
    {
     "data": {
      "text/plain": [
       "19"
      ]
     },
     "execution_count": 89,
     "metadata": {},
     "output_type": "execute_result"
    }
   ],
   "source": [
    "count_top_control = len(df[(df.revenue > 8) & (df.variant_name == 'control')])\n",
    "\n",
    "count_top_control"
   ]
  },
  {
   "cell_type": "code",
   "execution_count": 90,
   "metadata": {},
   "outputs": [
    {
     "data": {
      "text/plain": [
       "0.7037037037037037"
      ]
     },
     "execution_count": 90,
     "metadata": {},
     "output_type": "execute_result"
    }
   ],
   "source": [
    "count_top_control / count_top"
   ]
  },
  {
   "cell_type": "code",
   "execution_count": 91,
   "metadata": {},
   "outputs": [
    {
     "data": {
      "text/plain": [
       "0.7086574834058954"
      ]
     },
     "execution_count": 91,
     "metadata": {},
     "output_type": "execute_result"
    }
   ],
   "source": [
    "np.sum(df[(df.revenue > 8) & (df.variant_name == 'control')]['revenue']) / np.sum(df[df.revenue > 8]['revenue'])"
   ]
  },
  {
   "cell_type": "markdown",
   "metadata": {},
   "source": [
    "#### Какую долю от всех составляют дорогие заказы по количеству заказов?"
   ]
  },
  {
   "cell_type": "code",
   "execution_count": 92,
   "metadata": {},
   "outputs": [
    {
     "data": {
      "text/plain": [
       "0.17763157894736842"
      ]
     },
     "execution_count": 92,
     "metadata": {},
     "output_type": "execute_result"
    }
   ],
   "source": [
    "count_top / len(df[df.revenue > 0])"
   ]
  },
  {
   "cell_type": "markdown",
   "metadata": {},
   "source": [
    "#### Какую долю от всех составляют дорогие заказы по сумме дохода?"
   ]
  },
  {
   "cell_type": "code",
   "execution_count": 93,
   "metadata": {},
   "outputs": [
    {
     "data": {
      "text/plain": [
       "0.7044455840799622"
      ]
     },
     "execution_count": 93,
     "metadata": {},
     "output_type": "execute_result"
    }
   ],
   "source": [
    "np.sum(df[df.revenue > 8]['revenue']) / np.sum(df[df.revenue > 0]['revenue'])"
   ]
  },
  {
   "cell_type": "markdown",
   "metadata": {},
   "source": [
    "# Что, если убрать хвосты?"
   ]
  },
  {
   "cell_type": "code",
   "execution_count": 94,
   "metadata": {},
   "outputs": [],
   "source": [
    "df_basic_variant = df[(df.variant_name == 'variant') & (df.revenue > 0) & (df.revenue < 8)]\n",
    "df_basic_control = df[(df.variant_name == 'control') & (df.revenue > 0) & (df.revenue < 8)]"
   ]
  },
  {
   "cell_type": "code",
   "execution_count": 95,
   "metadata": {},
   "outputs": [
    {
     "data": {
      "image/png": "[encoded data removed]",
      "text/plain": [
       "<Figure size 432x288 with 1 Axes>"
      ]
     },
     "metadata": {
      "needs_background": "light"
     },
     "output_type": "display_data"
    }
   ],
   "source": [
    "sns.distplot(df_basic_variant.revenue, kde_kws={\"label\": \"variant\"})\n",
    "sns.distplot(df_basic_control.revenue, kde_kws={\"label\": \"control\"})\n",
    "\n",
    "plt.savefig('distplots_basic.png')"
   ]
  },
  {
   "cell_type": "code",
   "execution_count": 96,
   "metadata": {},
   "outputs": [
    {
     "data": {
      "text/plain": [
       "MannwhitneyuResult(statistic=1829.0, pvalue=0.544957365149969)"
      ]
     },
     "execution_count": 96,
     "metadata": {},
     "output_type": "execute_result"
    }
   ],
   "source": [
    "stats.mannwhitneyu(df_basic_variant.revenue.tolist(), df_basic_control.revenue.tolist(), alternative='two-sided')"
   ]
  },
  {
   "cell_type": "markdown",
   "metadata": {},
   "source": [
    "p-value > alpha = 0.05, значит, нет оснований отклонять гипотезу H0 о том, что математическое ожидание дохода не изменилось. Пользователи тратят одинаково при любом дизайне, если покупка на сумму 0 < revenue < 8."
   ]
  },
  {
   "cell_type": "markdown",
   "metadata": {},
   "source": [
    "# Окончательный вывод\n",
    "\n",
    "## Задача\n",
    "\n",
    "В течение недели в онлайн-магазин заходили пользователи и совершали покупки. В половине сессий показывался один дизайн сайта, в другой половине - другой. Соответственно, одной записе в таблице соответствует одна сессия. Хочется извлечь максимум из данных, выдвинуть гипотезы и дать рекомендации по дальнейшей работе\n",
    "\n",
    "## Результат\n",
    "\n",
    "На изображении results.png перечислены основные метрики и графики.\n",
    "\n",
    "Доходы в тестовой и контрольной выборках в заказах с revenue до 8.0 распределяются одинаково и не отличаются значимо. Но за счет заказов с revenue больше 8.0, которые составляют по количеству 17.76% от всех заказов и 70.44% по сумме дохода, контрольная выборка показала гораздо лучшие метрики (на нее пришлось 70.37% дорогих заказов по количеству и 70.86% по сумме дохода; разные люди несколько раз заходят на сайт и совершают дорогую покупку именно на контрольном дизайне).\n",
    "\n",
    "В тестовой группе выявлены значимое падение по многим метрикам: общий доход, средняя сумма заказа и средняя сумма заказа пользователя на 38-45%.\n",
    "\n",
    "При этом общее число заказов и конверсия сессии в заказ не изменились значимо.\n",
    "\n",
    "===\n",
    "\n",
    "Парная выборка (то есть по пользователям, видевших оба дизайна), составленная из исходных сырых данных, не показала значимой разницы между метриками. Требуется больше данных для принятия статистически верного решения (сейчас высока вероятность ошибки второго рода).\n",
    "\n",
    "\n",
    "# Что дальше?\n",
    "\n",
    "(Disclaimer: в рамках тестовой задачи мы не знаем какая задача именно решалась и как ставился a/b тест, но мы можем предположить разные варианты и предложить дальнейшие действия)\n",
    "\n",
    "Мы поняли, что почему-то **дорогие заказы совершают в контрольном дизайне. И они очень важны.** Теперь главные вопросы: \n",
    "* Почему?\n",
    "* Как мы можем еще помочь пользователям?\n",
    "* Как нам дальше развивать продукт и увеличивать прибыль?\n",
    "\n",
    "Чтобы ответить на них нужно понять (под пунктами примеры ситуаций):\n",
    "\n",
    "1. Что именно отличается в тестовом и контрольном дизайнах и как это может логически влиять на совершение/не совершение дорогого заказа + сравнить с конкурентами с похожими товарами\n",
    "    * Дорогим пользователям важно пообщаться с оператором в чате (тот самый, который \"Я тут, напишите мне, я Вам помогу\"), который пропал из тестового дизайна\n",
    "    * Некоторая ценность важна для совершения дорогой покупки (например, написано, что \"гарантия - MUST HAVE\", а это телефон за 60 тысяч рублей и она в придачу на 3 года; или доставка за 1 день), которая не демонстрируется или стала незаметна в тестовом дизайне\n",
    "    * Просто в \"рекомендациях\" не всплывают дорогие товары и, соответственно, потенциальный покупатель не узнает о них или о том, что вообще такое можно купить на сайте\n",
    "    * \"Фейковая\" скидка на товар или другой бонус (wildberries вот постоянно меняет цены и, возможно, в тестовом дизайне он бы решил сразу показать минимальную цену и получил бы такие данные)\n",
    "    * Добротный логотип, внушающий доверие\n",
    "    * Огромная кнопка \"купить в 1 клик\"\n",
    "    * Заметные логотипы VISA, MasterCard, показывающие возможность быстро сделать покупку\n",
    "    * 3D-модель товара\n",
    "    * В тестовом дизайне появилась возможность сортировать по возрастанию цены (или даже по-дефолту, или \"ограничить цену от и до\"), все пользователи начали сразу сортировать и, соответственно, просто тупо перестали доходить до дорогих товаров\n",
    "    * Что-то отвалилось на одной из платформ (десктоп, андроид, айос) и тупо не успевает загрузиться\n",
    "    * Для дорогих товаров картинки настолько крутые, что в тестовом дизайне загружаться стали слишком долго\n",
    "    * В тестовом дизайне важный элемент блокируется адблокером\n",
    "1. Поведение пользователей, желающих совершить дорогой заказ, и как контрольный дизайн им помогает\n",
    "    * Ищут ли они специально этот дорогой товар или случайно натыкаются и сразу покупают?\n",
    "    * Как долго принимают решение? Находят утром и покупают вечером или ждут неделю?\n",
    "    * Гложат ли их сомнения, смотрят ли аналоги, сколько времени проводят на сайте, звонят ли по горячей линии, что спрашивают в чате?\n",
    "1. Что объединяет этих пользователей?\n",
    "    * Это \"родители младенцев\"?\n",
    "    * Они добавляют очень много товаров в \"понравившиеся\"/\"сравнение\"\n",
    "    * Они заходят на наш сайт лишь чтобы проверить цену на дорогие товары?\n",
    "    * Они покупают только дорогие товары? (соответственно, тогда, возможно, все дешевые просто можно убрать и заточить продукт под дорогие)\n",
    "1. Что объединяет эти товары? (возможно, что они одного типа или похожих)\n",
    "    * Товары для профессиональных спортсменов\n",
    "    * Товары для дачников\n",
    "    * Это реально классные качественные товары\n",
    "    * Это аксессуары для техники Apple\n",
    "1. Что отличает эти товары от остальных на сайте?\n",
    "    * У них большое красивое описание\n",
    "    * Товары от классных брендов\n",
    "    * В тестовом дизайне нужно нажать отдельную кнопку, чтобы увидеть дорогие товары\n",
    "    \n",
    "## Несколько задач для аналитиков данных\n",
    "\n",
    "1. Посмотреть на просмотры дорогих товаров. Менятся ли конверсия на дорогих товарах в зависимости от дизайна?\n",
    "1. Посмотреть на общее поведение пользователей, совершивших дорогой заказ или которые могли его совершить: искали ли они именно его, были ли их сессии подряд (возможно, что на сайте баг и они специально обновляли страницу) или с перерывом (какой это перерыв? утро-вечер, 2 дня, неделя?) (сколько времени проходит от просмотра до покупки?), на какой платформе, куда тыкали на сайте\n",
    "1. Изучить пользователей, совершивших дорогой заказ. Составить их портрет. Отличается ли он от других пользователей?\n",
    "1. Продлить или расширить текущий a/b тест для статистически значимого анализа парной выборки: меняется ли доход от конкретного пользователя, когда он видит контрольный или тестовый дизайн?\n",
    "1. Изучить дорогие товары, которые купили эти пользователи: что их объединяет, что отличает?\n",
    "\n",
    "# Вердикт\n",
    "\n",
    "Хоть тестовое решение и показало значительное снижение дохода, a/b тест был важным: он показал, что какая-то конкретная вещь влияет на 20% пользователей, совершающих дорогие покупки с revenue > 8.0 и делающих 70% суммарного дохода. При этом никак не влияет на 80% пользователей, совершающих покупки с revenue <= 8.0.\n",
    "\n",
    "В зависимости от того, что именно было сделано, возможно, что целесообразно раскатить фичу на товары с revenue <= 8.0 (если это экономит что-либо: железо (если меньше данных хранить и считать нужно или скорость выдачи понижаем), работу операторов чатов, работу фотографов, редакторов), а для товаров с revenue > 8.0 усилить сильные стороны текущего решения (возможно, что даже просто начать продавать только эти товары или демонстрируя на главной только их). Дополнительная аналитика поможет лучше понять, кто эти пользователи и какие ценности им важны, какие новые идеи (а не изменение текущих решений) могут помочь людям, совершающим дорогие заказы и, соответственно, увеличить наш доход.\n",
    "\n",
    "Ну, и, вне зависимости от деталей задачи, если экономия от введения фичи больше падения дохода, то, конечно, тоже целесообразно ее продолжать раскатывать постепенно (если a/b тест был на 1%, то нужно дальше на 10%, 50%, 100% и на всех потом раскатить, если результаты будут подтверждаться).\n",
    "\n",
    "Если речь идет о кратковременной акции (день холостяка) или сезонном предложении (маски от коронавируса), то нужно переосмыслить решение перед следующим разом, потому что идея может быть хорошей, но мы только потеряли важных для нас пользователей."
   ]
  },
  {
   "cell_type": "code",
   "execution_count": null,
   "metadata": {},
   "outputs": [],
   "source": []
  }
 ],
 "metadata": {
  "kernelspec": {
   "display_name": "Python 3",
   "language": "python",
   "name": "python3"
  },
  "language_info": {
   "codemirror_mode": {
    "name": "ipython",
    "version": 3
   },
   "file_extension": ".py",
   "mimetype": "text/x-python",
   "name": "python",
   "nbconvert_exporter": "python",
   "pygments_lexer": "ipython3",
   "version": "3.8.3rc1"
  }
 },
 "nbformat": 4,
 "nbformat_minor": 4
}
